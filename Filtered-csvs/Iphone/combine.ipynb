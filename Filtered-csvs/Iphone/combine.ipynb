{
 "cells": [
  {
   "cell_type": "code",
   "execution_count": 2,
   "metadata": {},
   "outputs": [],
   "source": [
    "import pandas as pd\n",
    "\n",
    "\n"
   ]
  },
  {
   "cell_type": "code",
   "execution_count": 3,
   "metadata": {},
   "outputs": [
    {
     "name": "stdout",
     "output_type": "stream",
     "text": [
      "All specified CSV files have been combined and saved to 'combined.csv'.\n"
     ]
    }
   ],
   "source": [
    "\n",
    "# List of CSV file names\n",
    "csv_files = [\n",
    "    \"amazon_page_1.csv\",\n",
    "    \"amazon_page_2.csv\",\n",
    "    \"amazon_page_3.csv\",\n",
    "    \"amazon_page_4.csv\",\n",
    "    \"amazon_page_5.csv\",\n",
    "    \"amazon_page_6.csv\",\n",
    "    \"amazon_page_7.csv\",\n",
    "    \"amazon_page_8.csv\",\n",
    "    \"amazon_page_9.csv\",\n",
    "    \"amazon_page_10.csv\",\n",
    "]\n",
    "\n",
    "# List to store dataframes\n",
    "dataframes = []\n",
    "\n",
    "# Loop through each CSV file in the list\n",
    "for file in csv_files:\n",
    "    df = pd.read_csv(file)  # Read the CSV file into a dataframe\n",
    "    dataframes.append(df)  # Append the dataframe to the list\n",
    "\n",
    "# Combine all dataframes into one\n",
    "combined_df = pd.concat(dataframes, ignore_index=True)\n",
    "\n",
    "# Save the combined dataframe to a new CSV file\n",
    "combined_df.to_csv(\"combined.csv\", index=False)\n",
    "\n",
    "print(\"All specified CSV files have been combined and saved to 'combined.csv'.\")\n"
   ]
  }
 ],
 "metadata": {
  "kernelspec": {
   "display_name": "Python 3",
   "language": "python",
   "name": "python3"
  },
  "language_info": {
   "codemirror_mode": {
    "name": "ipython",
    "version": 3
   },
   "file_extension": ".py",
   "mimetype": "text/x-python",
   "name": "python",
   "nbconvert_exporter": "python",
   "pygments_lexer": "ipython3",
   "version": "3.12.4"
  }
 },
 "nbformat": 4,
 "nbformat_minor": 2
}
