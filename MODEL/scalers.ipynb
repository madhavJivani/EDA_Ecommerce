{
 "cells": [
  {
   "cell_type": "code",
   "execution_count": 165,
   "metadata": {},
   "outputs": [],
   "source": [
    "import pandas as pd\n",
    "import pickle\n",
    "import json\n",
    "import os"
   ]
  },
  {
   "cell_type": "code",
   "execution_count": 166,
   "metadata": {},
   "outputs": [],
   "source": [
    "# Load the exported models\n",
    "with open('models.pkl', 'rb') as file:\n",
    "    models = pickle.load(file)\n",
    "\n",
    "model_discount = models['discount%']\n",
    "model_free_delivery = models['free_delivery']"
   ]
  },
  {
   "cell_type": "code",
   "execution_count": 167,
   "metadata": {},
   "outputs": [
    {
     "data": {
      "text/plain": [
       "{'rating_stars': [1.0, 5.0],\n",
       " 'number_of_reviews': [2787.5377777777776, 14490.092269458171],\n",
       " 'bought_last_month': [544.7777777777778, 1199.744987545194],\n",
       " 'original_mrp': [57794.962222222224, 46894.61746496768],\n",
       " 'discount%': [0.0, 65.0],\n",
       " 'storage_in_GB': [212.69333333333333, 128.52294067840032],\n",
       " 'RAM_in_GB': [7.6066666666666665, 2.458284479778313]}"
      ]
     },
     "execution_count": 167,
     "metadata": {},
     "output_type": "execute_result"
    }
   ],
   "source": [
    "#  Load the JSON file\n",
    "with open('scalers.json', 'r') as file:\n",
    "    scalars = json.load(file)\n",
    "\n",
    "scalars"
   ]
  },
  {
   "cell_type": "code",
   "execution_count": 168,
   "metadata": {},
   "outputs": [
    {
     "name": "stdout",
     "output_type": "stream",
     "text": [
      "['brand_apple', 'brand_xiaomi', 'rating_stars', 'original_mrp', 'storage_in_GB', 'color_Natural Titanium', 'color_Teal', 'color_Ultramarine']\n",
      "['brand_apple', 'brand_xiaomi', 'rating_stars', 'original_mrp', 'bought_last_month', 'brand_samsung', 'color_Black', 'RAM_in_GB']\n"
     ]
    }
   ],
   "source": [
    "final_features = {\n",
    "    \"discount%\": [\n",
    "        \"brand_apple\",\"brand_xiaomi\",\"rating_stars\",\"original_mrp\",\"storage_in_GB\",\"color_Natural Titanium\",\"color_Teal\",\"color_Ultramarine\"\n",
    "    ],\n",
    "    \"free_delivery\": [\"brand_apple\",\"brand_xiaomi\",\"rating_stars\",\"original_mrp\",\"bought_last_month\",\"brand_samsung\",\"color_Black\",\"RAM_in_GB\"\n",
    "    ]\n",
    "}\n",
    "\n",
    "print(final_features['discount%'])\n",
    "print(final_features['free_delivery'])"
   ]
  },
  {
   "cell_type": "code",
   "execution_count": 169,
   "metadata": {},
   "outputs": [],
   "source": [
    "data = pd.read_csv('final.csv')"
   ]
  },
  {
   "cell_type": "code",
   "execution_count": 170,
   "metadata": {},
   "outputs": [],
   "source": [
    "sample = data.sample(100)"
   ]
  },
  {
   "cell_type": "code",
   "execution_count": 171,
   "metadata": {
    "vscode": {
     "languageId": "markdown"
    }
   },
   "outputs": [],
   "source": [
    "discount_sample = sample[['brand_apple', 'brand_xiaomi', 'rating_stars', 'original_mrp', 'storage_in_GB', 'color_Natural Titanium', 'color_Teal', 'color_Ultramarine']]"
   ]
  },
  {
   "cell_type": "code",
   "execution_count": 172,
   "metadata": {
    "vscode": {
     "languageId": "markdown"
    }
   },
   "outputs": [],
   "source": [
    "free_delivery_sample = sample[['brand_apple', 'brand_xiaomi', 'rating_stars', 'original_mrp', 'bought_last_month', 'brand_samsung', 'color_Black', 'RAM_in_GB']]"
   ]
  },
  {
   "cell_type": "code",
   "execution_count": 173,
   "metadata": {},
   "outputs": [],
   "source": [
    "# Predict discount percentage\n",
    "discount_prediction = model_discount.predict(discount_sample)\n",
    "\n",
    "# Predict free delivery\n",
    "free_delivery_prediction = model_free_delivery.predict(free_delivery_sample)"
   ]
  },
  {
   "cell_type": "code",
   "execution_count": 174,
   "metadata": {},
   "outputs": [
    {
     "name": "stdout",
     "output_type": "stream",
     "text": [
      "Discount Prediction Accuracy: 44.00%\n",
      "Free Delivery Prediction Accuracy: 74.00%\n"
     ]
    }
   ],
   "source": [
    "# Compare predicted discount percentage with actual values\n",
    "discount_actual = sample['discount%'].values\n",
    "discount_correct = ((discount_prediction >= discount_actual - 0.05) & (discount_prediction <= discount_actual + 0.05)).sum()\n",
    "discount_total = len(discount_actual)\n",
    "discount_accuracy = discount_correct / discount_total\n",
    "\n",
    "# Compare predicted free delivery with actual values\n",
    "free_delivery_actual = sample['free_delivery'].values\n",
    "free_delivery_correct = (free_delivery_prediction == free_delivery_actual).sum()\n",
    "free_delivery_total = len(free_delivery_actual)\n",
    "free_delivery_accuracy = free_delivery_correct / free_delivery_total\n",
    "\n",
    "print(f\"Discount Prediction Accuracy: {discount_accuracy * 100:.2f}%\")\n",
    "print(f\"Free Delivery Prediction Accuracy: {free_delivery_accuracy * 100:.2f}%\")"
   ]
  }
 ],
 "metadata": {
  "kernelspec": {
   "display_name": "Python 3",
   "language": "python",
   "name": "python3"
  },
  "language_info": {
   "codemirror_mode": {
    "name": "ipython",
    "version": 3
   },
   "file_extension": ".py",
   "mimetype": "text/x-python",
   "name": "python",
   "nbconvert_exporter": "python",
   "pygments_lexer": "ipython3",
   "version": "3.12.4"
  }
 },
 "nbformat": 4,
 "nbformat_minor": 2
}
