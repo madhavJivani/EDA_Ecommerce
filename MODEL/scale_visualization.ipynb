{
 "cells": [
  {
   "cell_type": "code",
   "execution_count": 1,
   "metadata": {},
   "outputs": [],
   "source": [
    "import pandas as pd"
   ]
  },
  {
   "cell_type": "code",
   "execution_count": 2,
   "metadata": {},
   "outputs": [],
   "source": [
    "data = pd.read_csv(r'C:\\Users\\Dell\\Desktop\\Programs\\Scaraping\\py-scraping\\Combined_csvs\\final_cleaned_smartphones2.csv')"
   ]
  },
  {
   "cell_type": "code",
   "execution_count": 3,
   "metadata": {},
   "outputs": [],
   "source": [
    "df = data.copy()"
   ]
  },
  {
   "cell_type": "code",
   "execution_count": 4,
   "metadata": {},
   "outputs": [
    {
     "data": {
      "text/plain": [
       "Index(['product_name', 'rating_stars', 'number_of_reviews',\n",
       "       'bought_last_month', 'discounted_mrp', 'original_mrp', 'discount%',\n",
       "       'free_delivery', 'brand', 'product', 'color', 'storage_in_GB',\n",
       "       'RAM_in_GB'],\n",
       "      dtype='object')"
      ]
     },
     "execution_count": 4,
     "metadata": {},
     "output_type": "execute_result"
    }
   ],
   "source": [
    "df.columns"
   ]
  },
  {
   "cell_type": "markdown",
   "metadata": {},
   "source": [
    "## Scaling valriables to 0-1"
   ]
  },
  {
   "cell_type": "markdown",
   "metadata": {},
   "source": [
    "> Scaling discount % by 1 - dis/original\n",
    "\n",
    "> discount = 100 * (this)  % for rescaling\n",
    "\n",
    "> discount price = (1-(this))*original mrp"
   ]
  },
  {
   "cell_type": "code",
   "execution_count": 5,
   "metadata": {},
   "outputs": [
    {
     "data": {
      "text/plain": [
       "count    450.000000\n",
       "mean       0.215850\n",
       "std        0.135750\n",
       "min        0.000000\n",
       "25%        0.129229\n",
       "50%        0.204925\n",
       "75%        0.284620\n",
       "max        0.653342\n",
       "Name: discount%, dtype: float64"
      ]
     },
     "execution_count": 5,
     "metadata": {},
     "output_type": "execute_result"
    }
   ],
   "source": [
    "df[\"discount%\"] = (1 - (df[\"discounted_mrp\"] / df[\"original_mrp\"]))\n",
    "df[\"discount%\"] = df[\"discount%\"].round(6)\n",
    "\n",
    "df[\"discount%\"].value_counts()\n",
    "df[\"discount%\"].describe()"
   ]
  },
  {
   "cell_type": "markdown",
   "metadata": {},
   "source": [
    "> Scaling ratings "
   ]
  },
  {
   "cell_type": "code",
   "execution_count": 6,
   "metadata": {},
   "outputs": [
    {
     "data": {
      "text/plain": [
       "count    450.000000\n",
       "mean       0.801689\n",
       "std        0.102437\n",
       "min        0.200000\n",
       "25%        0.760000\n",
       "50%        0.820000\n",
       "75%        0.860000\n",
       "max        1.000000\n",
       "Name: rating_stars, dtype: float64"
      ]
     },
     "execution_count": 6,
     "metadata": {},
     "output_type": "execute_result"
    }
   ],
   "source": [
    "df[\"rating_stars\"] = df[\"rating_stars\"]/5\n",
    "df[\"rating_stars\"] = df[\"rating_stars\"].round(6)\n",
    "df[\"rating_stars\"].describe()"
   ]
  },
  {
   "cell_type": "markdown",
   "metadata": {},
   "source": [
    "> Scaling (Min - Max) = (this - min)/(max - min) for number_of_reviews"
   ]
  },
  {
   "cell_type": "code",
   "execution_count": 7,
   "metadata": {},
   "outputs": [
    {
     "name": "stdout",
     "output_type": "stream",
     "text": [
      "1\n",
      "150734\n"
     ]
    },
    {
     "data": {
      "text/plain": [
       "0      0.001433\n",
       "1      0.001406\n",
       "2      0.051867\n",
       "3      0.043872\n",
       "4      0.020798\n",
       "         ...   \n",
       "445    0.000537\n",
       "446    0.001406\n",
       "447    0.000537\n",
       "448    0.037855\n",
       "449    0.675015\n",
       "Name: number_of_reviews, Length: 450, dtype: float64"
      ]
     },
     "execution_count": 7,
     "metadata": {},
     "output_type": "execute_result"
    }
   ],
   "source": [
    "min = df[\"number_of_reviews\"].min()\n",
    "max = df[\"number_of_reviews\"].max()\n",
    "print(min)\n",
    "print(max)\n",
    "\n",
    "df[\"number_of_reviews\"] = (df[\"number_of_reviews\"]-min)/(max-min)\n",
    "df[\"number_of_reviews\"] = df[\"number_of_reviews\"].round(6)\n",
    "df[\"number_of_reviews\"]"
   ]
  },
  {
   "cell_type": "markdown",
   "metadata": {},
   "source": [
    "> Min-Max scaling = (this - min)/(max - min) for bought_last_month"
   ]
  },
  {
   "cell_type": "code",
   "execution_count": 8,
   "metadata": {},
   "outputs": [
    {
     "name": "stdout",
     "output_type": "stream",
     "text": [
      "0\n",
      "5000\n"
     ]
    },
    {
     "data": {
      "text/plain": [
       "bought_last_month\n",
       "0.00    170\n",
       "0.02     51\n",
       "0.04     45\n",
       "0.10     42\n",
       "0.01     39\n",
       "0.20     29\n",
       "1.00     22\n",
       "0.06     17\n",
       "0.08     15\n",
       "0.40      9\n",
       "0.80      7\n",
       "0.60      4\n",
       "Name: count, dtype: int64"
      ]
     },
     "execution_count": 8,
     "metadata": {},
     "output_type": "execute_result"
    }
   ],
   "source": [
    "min = df[\"bought_last_month\"].min()\n",
    "max = df[\"bought_last_month\"].max()\n",
    "print(min)\n",
    "print(max)\n",
    "\n",
    "df[\"bought_last_month\"] = (df[\"bought_last_month\"]-min)/(max-min)\n",
    "df[\"bought_last_month\"] = df[\"bought_last_month\"].round(6)\n",
    "df[\"bought_last_month\"].value_counts()"
   ]
  },
  {
   "cell_type": "markdown",
   "metadata": {},
   "source": [
    "> Min-Max scaling = (this - min)/(max - min) for original_mrp"
   ]
  },
  {
   "cell_type": "code",
   "execution_count": 9,
   "metadata": {},
   "outputs": [
    {
     "name": "stdout",
     "output_type": "stream",
     "text": [
      "8999\n",
      "199900\n"
     ]
    },
    {
     "data": {
      "text/plain": [
       "original_mrp\n",
       "0.062860    20\n",
       "0.423785    19\n",
       "0.036668    16\n",
       "0.125720    16\n",
       "0.057621    13\n",
       "            ..\n",
       "0.104719     1\n",
       "0.204247     1\n",
       "0.034049     1\n",
       "0.041859     1\n",
       "0.711893     1\n",
       "Name: count, Length: 98, dtype: int64"
      ]
     },
     "execution_count": 9,
     "metadata": {},
     "output_type": "execute_result"
    }
   ],
   "source": [
    "min = df[\"original_mrp\"].min()\n",
    "max = df[\"original_mrp\"].max()\n",
    "print(min)\n",
    "print(max)\n",
    "\n",
    "df[\"original_mrp\"] = (df[\"original_mrp\"]-min)/(max-min)\n",
    "df[\"original_mrp\"] = df[\"original_mrp\"].round(6)\n",
    "df[\"original_mrp\"].value_counts()"
   ]
  },
  {
   "cell_type": "markdown",
   "metadata": {},
   "source": [
    "> Min-Max scaling = (this - min)/(max - min) for storage_in_GB"
   ]
  },
  {
   "cell_type": "code",
   "execution_count": 10,
   "metadata": {},
   "outputs": [
    {
     "name": "stdout",
     "output_type": "stream",
     "text": [
      "32\n",
      "512\n"
     ]
    },
    {
     "data": {
      "text/plain": [
       "storage_in_GB\n",
       "0.200000    221\n",
       "0.466667    147\n",
       "1.000000     55\n",
       "0.066667     24\n",
       "0.000000      3\n",
       "Name: count, dtype: int64"
      ]
     },
     "execution_count": 10,
     "metadata": {},
     "output_type": "execute_result"
    }
   ],
   "source": [
    "min = df[\"storage_in_GB\"].min()\n",
    "max = df[\"storage_in_GB\"].max()\n",
    "print(min)\n",
    "print(max)\n",
    "\n",
    "df[\"storage_in_GB\"] = (df[\"storage_in_GB\"]-min)/(max-min)\n",
    "df[\"storage_in_GB\"] = df[\"storage_in_GB\"].round(6)\n",
    "df[\"storage_in_GB\"].value_counts()"
   ]
  },
  {
   "cell_type": "markdown",
   "metadata": {},
   "source": [
    "> Min-Max scaling = (this - min)/(max - min) for RAM_in_GB"
   ]
  },
  {
   "cell_type": "code",
   "execution_count": 11,
   "metadata": {},
   "outputs": [
    {
     "name": "stdout",
     "output_type": "stream",
     "text": [
      "2\n",
      "16\n"
     ]
    },
    {
     "data": {
      "text/plain": [
       "RAM_in_GB\n",
       "0.428571    194\n",
       "0.285714    147\n",
       "0.714286     58\n",
       "0.142857     38\n",
       "1.000000      8\n",
       "0.071429      3\n",
       "0.000000      2\n",
       "Name: count, dtype: int64"
      ]
     },
     "execution_count": 11,
     "metadata": {},
     "output_type": "execute_result"
    }
   ],
   "source": [
    "min = df[\"RAM_in_GB\"].min()\n",
    "max = df[\"RAM_in_GB\"].max()\n",
    "print(min)\n",
    "print(max)\n",
    "\n",
    "df[\"RAM_in_GB\"] = (df[\"RAM_in_GB\"]-min)/(max-min)\n",
    "df[\"RAM_in_GB\"] = df[\"RAM_in_GB\"].round(6)\n",
    "df[\"RAM_in_GB\"].value_counts()"
   ]
  },
  {
   "cell_type": "markdown",
   "metadata": {},
   "source": [
    "> NOW encoding the categorical variables\n",
    "\n",
    "> Categorical variables are : brand and color\n",
    "\n",
    "```markdown\n",
    "Both are encoded using one hot encoding as the are **nominal** variables\n",
    "```"
   ]
  },
  {
   "cell_type": "code",
   "execution_count": 12,
   "metadata": {},
   "outputs": [
    {
     "data": {
      "text/plain": [
       "Index(['rating_stars', 'number_of_reviews', 'bought_last_month',\n",
       "       'original_mrp', 'discount%', 'free_delivery', 'brand', 'color',\n",
       "       'storage_in_GB', 'RAM_in_GB'],\n",
       "      dtype='object')"
      ]
     },
     "execution_count": 12,
     "metadata": {},
     "output_type": "execute_result"
    }
   ],
   "source": [
    "df.drop([\"product_name\",\"product\",\"discounted_mrp\"],axis=1,inplace=True)\n",
    "df.columns"
   ]
  },
  {
   "cell_type": "code",
   "execution_count": 13,
   "metadata": {},
   "outputs": [
    {
     "data": {
      "text/plain": [
       "brand\n",
       "apple      115\n",
       "samsung     68\n",
       "vivo        50\n",
       "redmi       46\n",
       "oneplus     45\n",
       "oppo        41\n",
       "realme      41\n",
       "xiaomi      30\n",
       "iphone      14\n",
       "Name: count, dtype: int64"
      ]
     },
     "execution_count": 13,
     "metadata": {},
     "output_type": "execute_result"
    }
   ],
   "source": [
    "df[\"brand\"].value_counts()"
   ]
  },
  {
   "cell_type": "code",
   "execution_count": 14,
   "metadata": {},
   "outputs": [
    {
     "data": {
      "text/html": [
       "<div>\n",
       "<style scoped>\n",
       "    .dataframe tbody tr th:only-of-type {\n",
       "        vertical-align: middle;\n",
       "    }\n",
       "\n",
       "    .dataframe tbody tr th {\n",
       "        vertical-align: top;\n",
       "    }\n",
       "\n",
       "    .dataframe thead th {\n",
       "        text-align: right;\n",
       "    }\n",
       "</style>\n",
       "<table border=\"1\" class=\"dataframe\">\n",
       "  <thead>\n",
       "    <tr style=\"text-align: right;\">\n",
       "      <th></th>\n",
       "      <th>rating_stars</th>\n",
       "      <th>number_of_reviews</th>\n",
       "      <th>bought_last_month</th>\n",
       "      <th>original_mrp</th>\n",
       "      <th>discount%</th>\n",
       "      <th>free_delivery</th>\n",
       "      <th>color</th>\n",
       "      <th>storage_in_GB</th>\n",
       "      <th>RAM_in_GB</th>\n",
       "      <th>brand_apple</th>\n",
       "      <th>brand_iphone</th>\n",
       "      <th>brand_oneplus</th>\n",
       "      <th>brand_oppo</th>\n",
       "      <th>brand_realme</th>\n",
       "      <th>brand_redmi</th>\n",
       "      <th>brand_samsung</th>\n",
       "      <th>brand_vivo</th>\n",
       "      <th>brand_xiaomi</th>\n",
       "    </tr>\n",
       "  </thead>\n",
       "  <tbody>\n",
       "    <tr>\n",
       "      <th>0</th>\n",
       "      <td>0.90</td>\n",
       "      <td>0.001433</td>\n",
       "      <td>0.04</td>\n",
       "      <td>0.371402</td>\n",
       "      <td>0.175219</td>\n",
       "      <td>0</td>\n",
       "      <td>Green</td>\n",
       "      <td>0.2</td>\n",
       "      <td>0.285714</td>\n",
       "      <td>True</td>\n",
       "      <td>False</td>\n",
       "      <td>False</td>\n",
       "      <td>False</td>\n",
       "      <td>False</td>\n",
       "      <td>False</td>\n",
       "      <td>False</td>\n",
       "      <td>False</td>\n",
       "      <td>False</td>\n",
       "    </tr>\n",
       "    <tr>\n",
       "      <th>1</th>\n",
       "      <td>0.88</td>\n",
       "      <td>0.001406</td>\n",
       "      <td>0.02</td>\n",
       "      <td>0.369830</td>\n",
       "      <td>0.172111</td>\n",
       "      <td>0</td>\n",
       "      <td>Pink</td>\n",
       "      <td>0.2</td>\n",
       "      <td>0.285714</td>\n",
       "      <td>True</td>\n",
       "      <td>False</td>\n",
       "      <td>False</td>\n",
       "      <td>False</td>\n",
       "      <td>False</td>\n",
       "      <td>False</td>\n",
       "      <td>False</td>\n",
       "      <td>False</td>\n",
       "      <td>False</td>\n",
       "    </tr>\n",
       "    <tr>\n",
       "      <th>2</th>\n",
       "      <td>0.90</td>\n",
       "      <td>0.051867</td>\n",
       "      <td>1.00</td>\n",
       "      <td>0.266636</td>\n",
       "      <td>0.240568</td>\n",
       "      <td>0</td>\n",
       "      <td>Starlight</td>\n",
       "      <td>0.2</td>\n",
       "      <td>0.285714</td>\n",
       "      <td>True</td>\n",
       "      <td>False</td>\n",
       "      <td>False</td>\n",
       "      <td>False</td>\n",
       "      <td>False</td>\n",
       "      <td>False</td>\n",
       "      <td>False</td>\n",
       "      <td>False</td>\n",
       "      <td>False</td>\n",
       "    </tr>\n",
       "    <tr>\n",
       "      <th>3</th>\n",
       "      <td>0.90</td>\n",
       "      <td>0.043872</td>\n",
       "      <td>1.00</td>\n",
       "      <td>0.265064</td>\n",
       "      <td>0.236745</td>\n",
       "      <td>0</td>\n",
       "      <td>Midnight</td>\n",
       "      <td>0.2</td>\n",
       "      <td>0.285714</td>\n",
       "      <td>True</td>\n",
       "      <td>False</td>\n",
       "      <td>False</td>\n",
       "      <td>False</td>\n",
       "      <td>False</td>\n",
       "      <td>False</td>\n",
       "      <td>False</td>\n",
       "      <td>False</td>\n",
       "      <td>False</td>\n",
       "    </tr>\n",
       "    <tr>\n",
       "      <th>4</th>\n",
       "      <td>0.90</td>\n",
       "      <td>0.020798</td>\n",
       "      <td>1.00</td>\n",
       "      <td>0.266636</td>\n",
       "      <td>0.240568</td>\n",
       "      <td>0</td>\n",
       "      <td>Pink</td>\n",
       "      <td>0.2</td>\n",
       "      <td>0.285714</td>\n",
       "      <td>True</td>\n",
       "      <td>False</td>\n",
       "      <td>False</td>\n",
       "      <td>False</td>\n",
       "      <td>False</td>\n",
       "      <td>False</td>\n",
       "      <td>False</td>\n",
       "      <td>False</td>\n",
       "      <td>False</td>\n",
       "    </tr>\n",
       "  </tbody>\n",
       "</table>\n",
       "</div>"
      ],
      "text/plain": [
       "   rating_stars  number_of_reviews  bought_last_month  original_mrp  \\\n",
       "0          0.90           0.001433               0.04      0.371402   \n",
       "1          0.88           0.001406               0.02      0.369830   \n",
       "2          0.90           0.051867               1.00      0.266636   \n",
       "3          0.90           0.043872               1.00      0.265064   \n",
       "4          0.90           0.020798               1.00      0.266636   \n",
       "\n",
       "   discount%  free_delivery      color  storage_in_GB  RAM_in_GB  brand_apple  \\\n",
       "0   0.175219              0      Green            0.2   0.285714         True   \n",
       "1   0.172111              0       Pink            0.2   0.285714         True   \n",
       "2   0.240568              0  Starlight            0.2   0.285714         True   \n",
       "3   0.236745              0   Midnight            0.2   0.285714         True   \n",
       "4   0.240568              0       Pink            0.2   0.285714         True   \n",
       "\n",
       "   brand_iphone  brand_oneplus  brand_oppo  brand_realme  brand_redmi  \\\n",
       "0         False          False       False         False        False   \n",
       "1         False          False       False         False        False   \n",
       "2         False          False       False         False        False   \n",
       "3         False          False       False         False        False   \n",
       "4         False          False       False         False        False   \n",
       "\n",
       "   brand_samsung  brand_vivo  brand_xiaomi  \n",
       "0          False       False         False  \n",
       "1          False       False         False  \n",
       "2          False       False         False  \n",
       "3          False       False         False  \n",
       "4          False       False         False  "
      ]
     },
     "execution_count": 14,
     "metadata": {},
     "output_type": "execute_result"
    }
   ],
   "source": [
    "df = pd.get_dummies(df, columns=['brand'], prefix='brand')\n",
    "df.head()"
   ]
  },
  {
   "cell_type": "code",
   "execution_count": 15,
   "metadata": {},
   "outputs": [
    {
     "data": {
      "text/plain": [
       "color\n",
       "Black               159\n",
       "Blue                 65\n",
       "Green                49\n",
       "Red                  37\n",
       "White                26\n",
       "Pink                 17\n",
       "Silver               13\n",
       "Yellow               10\n",
       "Natural Titanium      9\n",
       "Gold                  8\n",
       "Midnight              8\n",
       "Starlight             8\n",
       "Gray                  7\n",
       "Purple                7\n",
       "Teal                  5\n",
       "White Titanium        5\n",
       "Ultramarine           5\n",
       "Black Titanium        4\n",
       "Blue Titanium         3\n",
       "Space Black           2\n",
       "Desert Titanium       1\n",
       "Graphite              1\n",
       "Pacific Blue          1\n",
       "Name: count, dtype: int64"
      ]
     },
     "execution_count": 15,
     "metadata": {},
     "output_type": "execute_result"
    }
   ],
   "source": [
    "df[\"color\"].value_counts()"
   ]
  },
  {
   "cell_type": "code",
   "execution_count": 16,
   "metadata": {},
   "outputs": [
    {
     "data": {
      "text/html": [
       "<div>\n",
       "<style scoped>\n",
       "    .dataframe tbody tr th:only-of-type {\n",
       "        vertical-align: middle;\n",
       "    }\n",
       "\n",
       "    .dataframe tbody tr th {\n",
       "        vertical-align: top;\n",
       "    }\n",
       "\n",
       "    .dataframe thead th {\n",
       "        text-align: right;\n",
       "    }\n",
       "</style>\n",
       "<table border=\"1\" class=\"dataframe\">\n",
       "  <thead>\n",
       "    <tr style=\"text-align: right;\">\n",
       "      <th></th>\n",
       "      <th>rating_stars</th>\n",
       "      <th>number_of_reviews</th>\n",
       "      <th>bought_last_month</th>\n",
       "      <th>original_mrp</th>\n",
       "      <th>discount%</th>\n",
       "      <th>free_delivery</th>\n",
       "      <th>storage_in_GB</th>\n",
       "      <th>RAM_in_GB</th>\n",
       "      <th>brand_apple</th>\n",
       "      <th>brand_iphone</th>\n",
       "      <th>...</th>\n",
       "      <th>color_Purple</th>\n",
       "      <th>color_Red</th>\n",
       "      <th>color_Silver</th>\n",
       "      <th>color_Space Black</th>\n",
       "      <th>color_Starlight</th>\n",
       "      <th>color_Teal</th>\n",
       "      <th>color_Ultramarine</th>\n",
       "      <th>color_White</th>\n",
       "      <th>color_White Titanium</th>\n",
       "      <th>color_Yellow</th>\n",
       "    </tr>\n",
       "  </thead>\n",
       "  <tbody>\n",
       "    <tr>\n",
       "      <th>0</th>\n",
       "      <td>0.90</td>\n",
       "      <td>0.001433</td>\n",
       "      <td>0.04</td>\n",
       "      <td>0.371402</td>\n",
       "      <td>0.175219</td>\n",
       "      <td>0</td>\n",
       "      <td>0.2</td>\n",
       "      <td>0.285714</td>\n",
       "      <td>True</td>\n",
       "      <td>False</td>\n",
       "      <td>...</td>\n",
       "      <td>False</td>\n",
       "      <td>False</td>\n",
       "      <td>False</td>\n",
       "      <td>False</td>\n",
       "      <td>False</td>\n",
       "      <td>False</td>\n",
       "      <td>False</td>\n",
       "      <td>False</td>\n",
       "      <td>False</td>\n",
       "      <td>False</td>\n",
       "    </tr>\n",
       "    <tr>\n",
       "      <th>1</th>\n",
       "      <td>0.88</td>\n",
       "      <td>0.001406</td>\n",
       "      <td>0.02</td>\n",
       "      <td>0.369830</td>\n",
       "      <td>0.172111</td>\n",
       "      <td>0</td>\n",
       "      <td>0.2</td>\n",
       "      <td>0.285714</td>\n",
       "      <td>True</td>\n",
       "      <td>False</td>\n",
       "      <td>...</td>\n",
       "      <td>False</td>\n",
       "      <td>False</td>\n",
       "      <td>False</td>\n",
       "      <td>False</td>\n",
       "      <td>False</td>\n",
       "      <td>False</td>\n",
       "      <td>False</td>\n",
       "      <td>False</td>\n",
       "      <td>False</td>\n",
       "      <td>False</td>\n",
       "    </tr>\n",
       "    <tr>\n",
       "      <th>2</th>\n",
       "      <td>0.90</td>\n",
       "      <td>0.051867</td>\n",
       "      <td>1.00</td>\n",
       "      <td>0.266636</td>\n",
       "      <td>0.240568</td>\n",
       "      <td>0</td>\n",
       "      <td>0.2</td>\n",
       "      <td>0.285714</td>\n",
       "      <td>True</td>\n",
       "      <td>False</td>\n",
       "      <td>...</td>\n",
       "      <td>False</td>\n",
       "      <td>False</td>\n",
       "      <td>False</td>\n",
       "      <td>False</td>\n",
       "      <td>True</td>\n",
       "      <td>False</td>\n",
       "      <td>False</td>\n",
       "      <td>False</td>\n",
       "      <td>False</td>\n",
       "      <td>False</td>\n",
       "    </tr>\n",
       "    <tr>\n",
       "      <th>3</th>\n",
       "      <td>0.90</td>\n",
       "      <td>0.043872</td>\n",
       "      <td>1.00</td>\n",
       "      <td>0.265064</td>\n",
       "      <td>0.236745</td>\n",
       "      <td>0</td>\n",
       "      <td>0.2</td>\n",
       "      <td>0.285714</td>\n",
       "      <td>True</td>\n",
       "      <td>False</td>\n",
       "      <td>...</td>\n",
       "      <td>False</td>\n",
       "      <td>False</td>\n",
       "      <td>False</td>\n",
       "      <td>False</td>\n",
       "      <td>False</td>\n",
       "      <td>False</td>\n",
       "      <td>False</td>\n",
       "      <td>False</td>\n",
       "      <td>False</td>\n",
       "      <td>False</td>\n",
       "    </tr>\n",
       "    <tr>\n",
       "      <th>4</th>\n",
       "      <td>0.90</td>\n",
       "      <td>0.020798</td>\n",
       "      <td>1.00</td>\n",
       "      <td>0.266636</td>\n",
       "      <td>0.240568</td>\n",
       "      <td>0</td>\n",
       "      <td>0.2</td>\n",
       "      <td>0.285714</td>\n",
       "      <td>True</td>\n",
       "      <td>False</td>\n",
       "      <td>...</td>\n",
       "      <td>False</td>\n",
       "      <td>False</td>\n",
       "      <td>False</td>\n",
       "      <td>False</td>\n",
       "      <td>False</td>\n",
       "      <td>False</td>\n",
       "      <td>False</td>\n",
       "      <td>False</td>\n",
       "      <td>False</td>\n",
       "      <td>False</td>\n",
       "    </tr>\n",
       "  </tbody>\n",
       "</table>\n",
       "<p>5 rows × 40 columns</p>\n",
       "</div>"
      ],
      "text/plain": [
       "   rating_stars  number_of_reviews  bought_last_month  original_mrp  \\\n",
       "0          0.90           0.001433               0.04      0.371402   \n",
       "1          0.88           0.001406               0.02      0.369830   \n",
       "2          0.90           0.051867               1.00      0.266636   \n",
       "3          0.90           0.043872               1.00      0.265064   \n",
       "4          0.90           0.020798               1.00      0.266636   \n",
       "\n",
       "   discount%  free_delivery  storage_in_GB  RAM_in_GB  brand_apple  \\\n",
       "0   0.175219              0            0.2   0.285714         True   \n",
       "1   0.172111              0            0.2   0.285714         True   \n",
       "2   0.240568              0            0.2   0.285714         True   \n",
       "3   0.236745              0            0.2   0.285714         True   \n",
       "4   0.240568              0            0.2   0.285714         True   \n",
       "\n",
       "   brand_iphone  ...  color_Purple  color_Red  color_Silver  \\\n",
       "0         False  ...         False      False         False   \n",
       "1         False  ...         False      False         False   \n",
       "2         False  ...         False      False         False   \n",
       "3         False  ...         False      False         False   \n",
       "4         False  ...         False      False         False   \n",
       "\n",
       "   color_Space Black  color_Starlight  color_Teal  color_Ultramarine  \\\n",
       "0              False            False       False              False   \n",
       "1              False            False       False              False   \n",
       "2              False             True       False              False   \n",
       "3              False            False       False              False   \n",
       "4              False            False       False              False   \n",
       "\n",
       "   color_White  color_White Titanium  color_Yellow  \n",
       "0        False                 False         False  \n",
       "1        False                 False         False  \n",
       "2        False                 False         False  \n",
       "3        False                 False         False  \n",
       "4        False                 False         False  \n",
       "\n",
       "[5 rows x 40 columns]"
      ]
     },
     "execution_count": 16,
     "metadata": {},
     "output_type": "execute_result"
    }
   ],
   "source": [
    "df = pd.get_dummies(df, columns=['color'], prefix='color')\n",
    "df.head()"
   ]
  },
  {
   "cell_type": "code",
   "execution_count": 17,
   "metadata": {},
   "outputs": [
    {
     "data": {
      "text/plain": [
       "Index(['rating_stars', 'number_of_reviews', 'bought_last_month',\n",
       "       'original_mrp', 'discount%', 'free_delivery', 'storage_in_GB',\n",
       "       'RAM_in_GB', 'brand_apple', 'brand_iphone', 'brand_oneplus',\n",
       "       'brand_oppo', 'brand_realme', 'brand_redmi', 'brand_samsung',\n",
       "       'brand_vivo', 'brand_xiaomi', 'color_Black', 'color_Black Titanium',\n",
       "       'color_Blue', 'color_Blue Titanium', 'color_Desert Titanium',\n",
       "       'color_Gold', 'color_Graphite', 'color_Gray', 'color_Green',\n",
       "       'color_Midnight', 'color_Natural Titanium', 'color_Pacific Blue',\n",
       "       'color_Pink', 'color_Purple', 'color_Red', 'color_Silver',\n",
       "       'color_Space Black', 'color_Starlight', 'color_Teal',\n",
       "       'color_Ultramarine', 'color_White', 'color_White Titanium',\n",
       "       'color_Yellow'],\n",
       "      dtype='object')"
      ]
     },
     "execution_count": 17,
     "metadata": {},
     "output_type": "execute_result"
    }
   ],
   "source": [
    "df.columns"
   ]
  },
  {
   "cell_type": "code",
   "execution_count": 20,
   "metadata": {},
   "outputs": [
    {
     "data": {
      "text/html": [
       "<div>\n",
       "<style scoped>\n",
       "    .dataframe tbody tr th:only-of-type {\n",
       "        vertical-align: middle;\n",
       "    }\n",
       "\n",
       "    .dataframe tbody tr th {\n",
       "        vertical-align: top;\n",
       "    }\n",
       "\n",
       "    .dataframe thead th {\n",
       "        text-align: right;\n",
       "    }\n",
       "</style>\n",
       "<table border=\"1\" class=\"dataframe\">\n",
       "  <thead>\n",
       "    <tr style=\"text-align: right;\">\n",
       "      <th></th>\n",
       "      <th>rating_stars</th>\n",
       "      <th>number_of_reviews</th>\n",
       "      <th>bought_last_month</th>\n",
       "      <th>original_mrp</th>\n",
       "      <th>discount%</th>\n",
       "      <th>free_delivery</th>\n",
       "      <th>storage_in_GB</th>\n",
       "      <th>RAM_in_GB</th>\n",
       "      <th>brand_apple</th>\n",
       "      <th>brand_iphone</th>\n",
       "      <th>...</th>\n",
       "      <th>color_Purple</th>\n",
       "      <th>color_Red</th>\n",
       "      <th>color_Silver</th>\n",
       "      <th>color_Space Black</th>\n",
       "      <th>color_Starlight</th>\n",
       "      <th>color_Teal</th>\n",
       "      <th>color_Ultramarine</th>\n",
       "      <th>color_White</th>\n",
       "      <th>color_White Titanium</th>\n",
       "      <th>color_Yellow</th>\n",
       "    </tr>\n",
       "  </thead>\n",
       "  <tbody>\n",
       "    <tr>\n",
       "      <th>0</th>\n",
       "      <td>0.90</td>\n",
       "      <td>0.001433</td>\n",
       "      <td>0.04</td>\n",
       "      <td>0.371402</td>\n",
       "      <td>0.175219</td>\n",
       "      <td>0</td>\n",
       "      <td>0.2</td>\n",
       "      <td>0.285714</td>\n",
       "      <td>1</td>\n",
       "      <td>0</td>\n",
       "      <td>...</td>\n",
       "      <td>0</td>\n",
       "      <td>0</td>\n",
       "      <td>0</td>\n",
       "      <td>0</td>\n",
       "      <td>0</td>\n",
       "      <td>0</td>\n",
       "      <td>0</td>\n",
       "      <td>0</td>\n",
       "      <td>0</td>\n",
       "      <td>0</td>\n",
       "    </tr>\n",
       "    <tr>\n",
       "      <th>1</th>\n",
       "      <td>0.88</td>\n",
       "      <td>0.001406</td>\n",
       "      <td>0.02</td>\n",
       "      <td>0.369830</td>\n",
       "      <td>0.172111</td>\n",
       "      <td>0</td>\n",
       "      <td>0.2</td>\n",
       "      <td>0.285714</td>\n",
       "      <td>1</td>\n",
       "      <td>0</td>\n",
       "      <td>...</td>\n",
       "      <td>0</td>\n",
       "      <td>0</td>\n",
       "      <td>0</td>\n",
       "      <td>0</td>\n",
       "      <td>0</td>\n",
       "      <td>0</td>\n",
       "      <td>0</td>\n",
       "      <td>0</td>\n",
       "      <td>0</td>\n",
       "      <td>0</td>\n",
       "    </tr>\n",
       "    <tr>\n",
       "      <th>2</th>\n",
       "      <td>0.90</td>\n",
       "      <td>0.051867</td>\n",
       "      <td>1.00</td>\n",
       "      <td>0.266636</td>\n",
       "      <td>0.240568</td>\n",
       "      <td>0</td>\n",
       "      <td>0.2</td>\n",
       "      <td>0.285714</td>\n",
       "      <td>1</td>\n",
       "      <td>0</td>\n",
       "      <td>...</td>\n",
       "      <td>0</td>\n",
       "      <td>0</td>\n",
       "      <td>0</td>\n",
       "      <td>0</td>\n",
       "      <td>1</td>\n",
       "      <td>0</td>\n",
       "      <td>0</td>\n",
       "      <td>0</td>\n",
       "      <td>0</td>\n",
       "      <td>0</td>\n",
       "    </tr>\n",
       "    <tr>\n",
       "      <th>3</th>\n",
       "      <td>0.90</td>\n",
       "      <td>0.043872</td>\n",
       "      <td>1.00</td>\n",
       "      <td>0.265064</td>\n",
       "      <td>0.236745</td>\n",
       "      <td>0</td>\n",
       "      <td>0.2</td>\n",
       "      <td>0.285714</td>\n",
       "      <td>1</td>\n",
       "      <td>0</td>\n",
       "      <td>...</td>\n",
       "      <td>0</td>\n",
       "      <td>0</td>\n",
       "      <td>0</td>\n",
       "      <td>0</td>\n",
       "      <td>0</td>\n",
       "      <td>0</td>\n",
       "      <td>0</td>\n",
       "      <td>0</td>\n",
       "      <td>0</td>\n",
       "      <td>0</td>\n",
       "    </tr>\n",
       "    <tr>\n",
       "      <th>4</th>\n",
       "      <td>0.90</td>\n",
       "      <td>0.020798</td>\n",
       "      <td>1.00</td>\n",
       "      <td>0.266636</td>\n",
       "      <td>0.240568</td>\n",
       "      <td>0</td>\n",
       "      <td>0.2</td>\n",
       "      <td>0.285714</td>\n",
       "      <td>1</td>\n",
       "      <td>0</td>\n",
       "      <td>...</td>\n",
       "      <td>0</td>\n",
       "      <td>0</td>\n",
       "      <td>0</td>\n",
       "      <td>0</td>\n",
       "      <td>0</td>\n",
       "      <td>0</td>\n",
       "      <td>0</td>\n",
       "      <td>0</td>\n",
       "      <td>0</td>\n",
       "      <td>0</td>\n",
       "    </tr>\n",
       "  </tbody>\n",
       "</table>\n",
       "<p>5 rows × 40 columns</p>\n",
       "</div>"
      ],
      "text/plain": [
       "   rating_stars  number_of_reviews  bought_last_month  original_mrp  \\\n",
       "0          0.90           0.001433               0.04      0.371402   \n",
       "1          0.88           0.001406               0.02      0.369830   \n",
       "2          0.90           0.051867               1.00      0.266636   \n",
       "3          0.90           0.043872               1.00      0.265064   \n",
       "4          0.90           0.020798               1.00      0.266636   \n",
       "\n",
       "   discount%  free_delivery  storage_in_GB  RAM_in_GB  brand_apple  \\\n",
       "0   0.175219              0            0.2   0.285714            1   \n",
       "1   0.172111              0            0.2   0.285714            1   \n",
       "2   0.240568              0            0.2   0.285714            1   \n",
       "3   0.236745              0            0.2   0.285714            1   \n",
       "4   0.240568              0            0.2   0.285714            1   \n",
       "\n",
       "   brand_iphone  ...  color_Purple  color_Red  color_Silver  \\\n",
       "0             0  ...             0          0             0   \n",
       "1             0  ...             0          0             0   \n",
       "2             0  ...             0          0             0   \n",
       "3             0  ...             0          0             0   \n",
       "4             0  ...             0          0             0   \n",
       "\n",
       "   color_Space Black  color_Starlight  color_Teal  color_Ultramarine  \\\n",
       "0                  0                0           0                  0   \n",
       "1                  0                0           0                  0   \n",
       "2                  0                1           0                  0   \n",
       "3                  0                0           0                  0   \n",
       "4                  0                0           0                  0   \n",
       "\n",
       "   color_White  color_White Titanium  color_Yellow  \n",
       "0            0                     0             0  \n",
       "1            0                     0             0  \n",
       "2            0                     0             0  \n",
       "3            0                     0             0  \n",
       "4            0                     0             0  \n",
       "\n",
       "[5 rows x 40 columns]"
      ]
     },
     "execution_count": 20,
     "metadata": {},
     "output_type": "execute_result"
    }
   ],
   "source": [
    "cols_to_convert = ['brand_apple','brand_iphone','brand_oneplus','brand_oppo', 'brand_realme', 'brand_redmi', 'brand_samsung','brand_vivo', 'brand_xiaomi', 'color_Black', 'color_Black Titanium','color_Blue', 'color_Blue Titanium', 'color_Desert Titanium','color_Gold', 'color_Graphite', 'color_Gray', 'color_Green','color_Midnight', 'color_Natural Titanium', 'color_Pacific Blue','color_Pink', 'color_Purple', 'color_Red', 'color_Silver','color_Space Black','color_Starlight', 'color_Teal','color_Ultramarine', 'color_White', 'color_White Titanium','color_Yellow']\n",
    "\n",
    "df[cols_to_convert] = df[cols_to_convert].astype(int)\n",
    "df[cols_to_convert].dtypes\n",
    "\n",
    "df.head()"
   ]
  }
 ],
 "metadata": {
  "kernelspec": {
   "display_name": "Python 3",
   "language": "python",
   "name": "python3"
  },
  "language_info": {
   "codemirror_mode": {
    "name": "ipython",
    "version": 3
   },
   "file_extension": ".py",
   "mimetype": "text/x-python",
   "name": "python",
   "nbconvert_exporter": "python",
   "pygments_lexer": "ipython3",
   "version": "3.12.4"
  }
 },
 "nbformat": 4,
 "nbformat_minor": 2
}
