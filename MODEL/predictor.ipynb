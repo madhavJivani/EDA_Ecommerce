{
 "cells": [
  {
   "cell_type": "code",
   "execution_count": 33,
   "metadata": {},
   "outputs": [],
   "source": [
    "import pandas as pd\n",
    "import pickle\n",
    "import json"
   ]
  },
  {
   "cell_type": "code",
   "execution_count": 34,
   "metadata": {},
   "outputs": [],
   "source": [
    "# Load the exported models\n",
    "with open('models.pkl', 'rb') as file:\n",
    "    models = pickle.load(file)\n",
    "\n",
    "model_discount = models['discount%']\n",
    "model_free_delivery = models['free_delivery']"
   ]
  },
  {
   "cell_type": "code",
   "execution_count": 35,
   "metadata": {},
   "outputs": [
    {
     "data": {
      "text/plain": [
       "{'rating_stars': [1.0, 5.0],\n",
       " 'number_of_reviews': [2787.5377777777776, 14490.092269458171],\n",
       " 'bought_last_month': [544.7777777777778, 1199.744987545194],\n",
       " 'original_mrp': [57794.962222222224, 46894.61746496768],\n",
       " 'discount%': [0.0, 65.0],\n",
       " 'storage_in_GB': [212.69333333333333, 128.52294067840032],\n",
       " 'RAM_in_GB': [7.6066666666666665, 2.458284479778313]}"
      ]
     },
     "execution_count": 35,
     "metadata": {},
     "output_type": "execute_result"
    }
   ],
   "source": [
    "#  Load the JSON file\n",
    "with open('scalers.json', 'r') as file:\n",
    "    scalars = json.load(file)\n",
    "\n",
    "scalars"
   ]
  },
  {
   "cell_type": "code",
   "execution_count": 36,
   "metadata": {},
   "outputs": [
    {
     "name": "stdout",
     "output_type": "stream",
     "text": [
      "['brand_apple', 'brand_xiaomi', 'rating_stars', 'original_mrp', 'storage_in_GB', 'color_Natural Titanium', 'color_Teal', 'color_Ultramarine']\n",
      "['brand_apple', 'brand_xiaomi', 'rating_stars', 'original_mrp', 'bought_last_month', 'brand_samsung', 'color_Black', 'RAM_in_GB']\n"
     ]
    }
   ],
   "source": [
    "final_features = {\n",
    "    \"discount%\": [\n",
    "        \"brand_apple\",\"brand_xiaomi\",\"rating_stars\",\"original_mrp\",\"storage_in_GB\",\"color_Natural Titanium\",\"color_Teal\",\"color_Ultramarine\"\n",
    "    ],\n",
    "    \"free_delivery\": [\"brand_apple\",\"brand_xiaomi\",\"rating_stars\",\"original_mrp\",\"bought_last_month\",\"brand_samsung\",\"color_Black\",\"RAM_in_GB\"\n",
    "    ]\n",
    "}\n",
    "\n",
    "print(final_features['discount%'])\n",
    "print(final_features['free_delivery'])"
   ]
  },
  {
   "cell_type": "code",
   "execution_count": 37,
   "metadata": {},
   "outputs": [],
   "source": [
    "data = pd.read_csv(r'C:\\Users\\Dell\\Desktop\\Programs\\Scaraping\\py-scraping\\Combined_csvs\\final_cleaned_smartphones2.csv')"
   ]
  },
  {
   "cell_type": "code",
   "execution_count": 38,
   "metadata": {},
   "outputs": [
    {
     "data": {
      "text/html": [
       "<div>\n",
       "<style scoped>\n",
       "    .dataframe tbody tr th:only-of-type {\n",
       "        vertical-align: middle;\n",
       "    }\n",
       "\n",
       "    .dataframe tbody tr th {\n",
       "        vertical-align: top;\n",
       "    }\n",
       "\n",
       "    .dataframe thead th {\n",
       "        text-align: right;\n",
       "    }\n",
       "</style>\n",
       "<table border=\"1\" class=\"dataframe\">\n",
       "  <thead>\n",
       "    <tr style=\"text-align: right;\">\n",
       "      <th></th>\n",
       "      <th>product_name</th>\n",
       "      <th>rating_stars</th>\n",
       "      <th>number_of_reviews</th>\n",
       "      <th>bought_last_month</th>\n",
       "      <th>discounted_mrp</th>\n",
       "      <th>original_mrp</th>\n",
       "      <th>discount%</th>\n",
       "      <th>free_delivery</th>\n",
       "      <th>brand</th>\n",
       "      <th>product</th>\n",
       "      <th>color</th>\n",
       "      <th>storage_in_GB</th>\n",
       "      <th>RAM_in_GB</th>\n",
       "    </tr>\n",
       "  </thead>\n",
       "  <tbody>\n",
       "    <tr>\n",
       "      <th>129</th>\n",
       "      <td>OnePlus Nord CE4 Lite 5G (Super , RAM, Storage)</td>\n",
       "      <td>4.1</td>\n",
       "      <td>1437</td>\n",
       "      <td>5000</td>\n",
       "      <td>17999.0</td>\n",
       "      <td>20999</td>\n",
       "      <td>14.0</td>\n",
       "      <td>1</td>\n",
       "      <td>oneplus</td>\n",
       "      <td>OnePlus Nord CE4 Lite 5G</td>\n",
       "      <td>Silver</td>\n",
       "      <td>128</td>\n",
       "      <td>8</td>\n",
       "    </tr>\n",
       "  </tbody>\n",
       "</table>\n",
       "</div>"
      ],
      "text/plain": [
       "                                        product_name  rating_stars  \\\n",
       "129  OnePlus Nord CE4 Lite 5G (Super , RAM, Storage)           4.1   \n",
       "\n",
       "     number_of_reviews  bought_last_month  discounted_mrp  original_mrp  \\\n",
       "129               1437               5000         17999.0         20999   \n",
       "\n",
       "     discount%  free_delivery    brand                    product   color  \\\n",
       "129       14.0              1  oneplus  OnePlus Nord CE4 Lite 5G   Silver   \n",
       "\n",
       "     storage_in_GB  RAM_in_GB  \n",
       "129            128          8  "
      ]
     },
     "execution_count": 38,
     "metadata": {},
     "output_type": "execute_result"
    }
   ],
   "source": [
    "data = data.sample(1)\n",
    "data"
   ]
  },
  {
   "cell_type": "code",
   "execution_count": 39,
   "metadata": {},
   "outputs": [
    {
     "name": "stdout",
     "output_type": "stream",
     "text": [
      "{'discount%': '10 to 20%', 'free_delivery': 1}\n"
     ]
    },
    {
     "name": "stderr",
     "output_type": "stream",
     "text": [
      "C:\\Users\\Dell\\AppData\\Local\\Temp\\ipykernel_18020\\1985661451.py:44: FutureWarning: A value is trying to be set on a copy of a DataFrame or Series through chained assignment using an inplace method.\n",
      "The behavior will change in pandas 3.0. This inplace method will never work because the intermediate object on which we are setting values always behaves as a copy.\n",
      "\n",
      "For example, when doing 'df[col].method(value, inplace=True)', try using 'df.method({col: value}, inplace=True)' or df[col] = df[col].method(value) instead, to perform the operation inplace on the original object.\n",
      "\n",
      "\n",
      "  df[\"brand\"].replace({'iphone': 'apple', 'redmi': 'xiaomi'}, inplace=True)\n"
     ]
    }
   ],
   "source": [
    "def process_and_predict(data, scalars, model_discount, model_free_delivery):\n",
    "    def scale_down(data):\n",
    "        df = data.copy()\n",
    "        df.drop([\"product_name\", \"product\", \"discounted_mrp\"], axis=1, inplace=True)\n",
    "\n",
    "        # Scaling rating_stars\n",
    "        min_val = scalars[\"rating_stars\"][0]\n",
    "        max_val = scalars[\"rating_stars\"][1]\n",
    "        df[\"rating_stars\"] = -1 + (df[\"rating_stars\"] - min_val) / (max_val - min_val) * 2\n",
    "        df[\"rating_stars\"] = df[\"rating_stars\"].round(6)\n",
    "\n",
    "        # Standardizing number_of_reviews\n",
    "        means = scalars[\"number_of_reviews\"][0]\n",
    "        std_devs = scalars[\"number_of_reviews\"][1]\n",
    "        df[\"number_of_reviews\"] = (df[\"number_of_reviews\"] - means) / std_devs\n",
    "\n",
    "        # Standardizing bought_last_month\n",
    "        means = scalars[\"bought_last_month\"][0]\n",
    "        std_devs = scalars[\"bought_last_month\"][1]\n",
    "        df[\"bought_last_month\"] = (df[\"bought_last_month\"] - means) / std_devs\n",
    "\n",
    "        # Standardizing original_mrp\n",
    "        means = scalars[\"original_mrp\"][0]\n",
    "        std_devs = scalars[\"original_mrp\"][1]\n",
    "        df[\"original_mrp\"] = (df[\"original_mrp\"] - means) / std_devs\n",
    "\n",
    "        # Scaling discount%\n",
    "        min_val = scalars[\"discount%\"][0]\n",
    "        max_val = scalars[\"discount%\"][1]\n",
    "        df[\"discount%\"] = -1 + (df[\"discount%\"] - min_val) / (max_val - min_val) * 2\n",
    "        df[\"discount%\"] = df[\"discount%\"].round(6)\n",
    "\n",
    "        # Standardizing storage_in_GB\n",
    "        means = scalars[\"storage_in_GB\"][0]\n",
    "        std_devs = scalars[\"storage_in_GB\"][1]\n",
    "        df[\"storage_in_GB\"] = (df[\"storage_in_GB\"] - means) / std_devs\n",
    "\n",
    "        # Standardizing RAM_in_GB\n",
    "        means = scalars[\"RAM_in_GB\"][0]\n",
    "        std_devs = scalars[\"RAM_in_GB\"][1]\n",
    "        df[\"RAM_in_GB\"] = (df[\"RAM_in_GB\"] - means) / std_devs\n",
    "\n",
    "        # Replacing brand names\n",
    "        df[\"brand\"].replace({'iphone': 'apple', 'redmi': 'xiaomi'}, inplace=True)\n",
    "        df = pd.get_dummies(df, columns=['brand'], prefix='brand')\n",
    "        df = pd.get_dummies(df, columns=['color'], prefix='color')\n",
    "\n",
    "        # Ensure all specified columns are present\n",
    "        required_columns = ['rating_stars', 'number_of_reviews', 'bought_last_month', 'original_mrp', 'discount%', 'free_delivery', 'storage_in_GB', 'RAM_in_GB', 'brand_apple', 'brand_oneplus', 'brand_oppo', 'brand_realme', 'brand_samsung', 'brand_vivo', 'brand_xiaomi', 'color_Black', 'color_Black Titanium', 'color_Blue', 'color_Blue Titanium', 'color_Desert Titanium', 'color_Gold', 'color_Graphite', 'color_Gray', 'color_Green', 'color_Midnight', 'color_Natural Titanium', 'color_Pacific Blue', 'color_Pink', 'color_Purple', 'color_Red', 'color_Silver', 'color_Space Black', 'color_Starlight', 'color_Teal', 'color_Ultramarine', 'color_White', 'color_White Titanium', 'color_Yellow']\n",
    "\n",
    "        for col in required_columns:\n",
    "            if col not in df.columns:\n",
    "                df[col] = 0\n",
    "\n",
    "        cols_to_convert = ['brand_apple', 'brand_oneplus', 'brand_oppo', 'brand_realme', 'brand_samsung', 'brand_vivo', 'brand_xiaomi', 'color_Black', 'color_Black Titanium', 'color_Blue', 'color_Blue Titanium', 'color_Desert Titanium', 'color_Gold', 'color_Graphite', 'color_Gray', 'color_Green', 'color_Midnight', 'color_Natural Titanium', 'color_Pacific Blue', 'color_Pink', 'color_Purple', 'color_Red', 'color_Silver', 'color_Space Black', 'color_Starlight', 'color_Teal', 'color_Ultramarine', 'color_White', 'color_White Titanium', 'color_Yellow']\n",
    "\n",
    "        df[cols_to_convert] = df[cols_to_convert].astype(int)\n",
    "        return df\n",
    "\n",
    "    def model_feed(sample):\n",
    "        discount_sample = sample[['brand_apple', 'brand_xiaomi', 'rating_stars', 'original_mrp', 'storage_in_GB', 'color_Natural Titanium', 'color_Teal', 'color_Ultramarine']]\n",
    "        free_delivery_sample = sample[['brand_apple', 'brand_xiaomi', 'rating_stars', 'original_mrp', 'bought_last_month', 'brand_samsung', 'color_Black', 'RAM_in_GB']]\n",
    "\n",
    "        # Predict discount percentage\n",
    "        discount_prediction = model_discount.predict(discount_sample)\n",
    "\n",
    "        # Predict free delivery\n",
    "        free_delivery_prediction = model_free_delivery.predict(free_delivery_sample)\n",
    "\n",
    "        return {\n",
    "            \"discount%\": discount_prediction[0],\n",
    "            \"free_delivery\": free_delivery_prediction[0]\n",
    "        }\n",
    "\n",
    "    def upscale_predictions(predictions, scalars):\n",
    "        upscaled_predictions = predictions.copy()\n",
    "\n",
    "        # Upscale discount%\n",
    "        min_val = scalars[\"discount%\"][0]\n",
    "        max_val = scalars[\"discount%\"][1]\n",
    "        upscaled_predictions[\"discount%\"] = ((upscaled_predictions[\"discount%\"] + 1) / 2) * (max_val - min_val) + min_val\n",
    "\n",
    "        # Convert free_delivery from -1/1 to 0/1\n",
    "        upscaled_predictions[\"free_delivery\"] = 1 if upscaled_predictions[\"free_delivery\"] == 1 else 0\n",
    "\n",
    "        return upscaled_predictions\n",
    "\n",
    "    def categorize_discount(discount):\n",
    "        bins = list(range(0, 101, 10))\n",
    "        for i in range(len(bins) - 1):\n",
    "            if bins[i] <= discount < bins[i + 1]:\n",
    "                return f\"{bins[i]} to {bins[i + 1]}%\"\n",
    "        return \"100%+\"\n",
    "\n",
    "    # Normalize the input data\n",
    "    data_in = scale_down(data.copy())\n",
    "\n",
    "    # Feed the normalized data to the model\n",
    "    predictions = model_feed(data_in)\n",
    "\n",
    "    # Upscale the model predictions\n",
    "    upscaled_predictions = upscale_predictions(predictions, scalars)\n",
    "\n",
    "    # Categorize the discount\n",
    "    upscaled_predictions[\"discount%\"] = categorize_discount(upscaled_predictions[\"discount%\"])\n",
    "\n",
    "    return upscaled_predictions\n",
    "\n",
    "# Example usage\n",
    "result = process_and_predict(data, scalars, model_discount, model_free_delivery)\n",
    "print(result)"
   ]
  },
  {
   "cell_type": "code",
   "execution_count": 40,
   "metadata": {},
   "outputs": [
    {
     "name": "stdout",
     "output_type": "stream",
     "text": [
      "Actual vs Predicted\n",
      "Discount: 14.0% vs 10 to 20%\n",
      "Free Delivery: 1 vs 1\n",
      "\n",
      "Accuracy Scores\n",
      "Discount Prediction is within the same bin: True\n",
      "Discount Accuracy: 100%\n",
      "Free Delivery Prediction is correct: True\n",
      "Free Delivery Accuracy: 100%\n"
     ]
    }
   ],
   "source": [
    "# Extract the actual discount percentage from the input data\n",
    "actual_discount = data['discount%'].values[0]\n",
    "# Extract the predicted discount percentage from the result\n",
    "predicted_discount = result['discount%']\n",
    "\n",
    "# Define the bins\n",
    "bins = list(range(0, 101, 10))\n",
    "\n",
    "# Function to categorize discount\n",
    "def categorize_discount(discount):\n",
    "    for i in range(len(bins) - 1):\n",
    "        if bins[i] <= discount < bins[i + 1]:\n",
    "            return f\"{bins[i]} to {bins[i + 1]}%\"\n",
    "    return \"100%+\"\n",
    "\n",
    "# Categorize the actual discount\n",
    "actual_discount_category = categorize_discount(actual_discount)\n",
    "\n",
    "# Calculate if the discount prediction is within the same bin\n",
    "is_discount_correct = (predicted_discount == actual_discount_category)\n",
    "\n",
    "# Extract the actual free delivery value from the input data\n",
    "actual_free_delivery = data['free_delivery'].values[0]\n",
    "# Extract the predicted free delivery value from the result\n",
    "predicted_free_delivery = result['free_delivery']\n",
    "# Calculate if the free delivery prediction is correct\n",
    "is_free_delivery_correct = (predicted_free_delivery == actual_free_delivery)\n",
    "\n",
    "# Calculate accuracy for discount\n",
    "discount_accuracy = 1 if is_discount_correct else 0\n",
    "# Calculate accuracy for free delivery\n",
    "free_delivery_accuracy = 1 if is_free_delivery_correct else 0\n",
    "\n",
    "print(\"Actual vs Predicted\")\n",
    "print(f\"Discount: {actual_discount}% vs {predicted_discount}\")\n",
    "print(f\"Free Delivery: {actual_free_delivery} vs {predicted_free_delivery}\")\n",
    "print()\n",
    "print(\"Accuracy Scores\")\n",
    "print(f\"Discount Prediction is within the same bin: {is_discount_correct}\")\n",
    "print(f\"Discount Accuracy: {discount_accuracy * 100}%\")\n",
    "print(f\"Free Delivery Prediction is correct: {is_free_delivery_correct}\")\n",
    "print(f\"Free Delivery Accuracy: {free_delivery_accuracy * 100}%\")"
   ]
  },
  {
   "cell_type": "markdown",
   "metadata": {},
   "source": []
  }
 ],
 "metadata": {
  "kernelspec": {
   "display_name": "Python 3",
   "language": "python",
   "name": "python3"
  },
  "language_info": {
   "codemirror_mode": {
    "name": "ipython",
    "version": 3
   },
   "file_extension": ".py",
   "mimetype": "text/x-python",
   "name": "python",
   "nbconvert_exporter": "python",
   "pygments_lexer": "ipython3",
   "version": "3.12.4"
  }
 },
 "nbformat": 4,
 "nbformat_minor": 2
}
