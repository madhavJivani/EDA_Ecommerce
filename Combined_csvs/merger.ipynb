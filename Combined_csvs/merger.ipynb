{
 "cells": [
  {
   "cell_type": "code",
   "execution_count": 1,
   "metadata": {},
   "outputs": [
    {
     "name": "stdout",
     "output_type": "stream",
     "text": [
      "All files have been merged and saved to 'merged_smartphones.csv'.\n"
     ]
    }
   ],
   "source": [
    "import pandas as pd\n",
    "\n",
    "# List of CSV file names\n",
    "file_names = [\"iphone.csv\", \"oneplus.csv\", \"oppo.csv\", \"realme.csv\", \"samsung.csv\", \"vivo.csv\", \"xiaomi.csv\"]\n",
    "\n",
    "# Initialize an empty list to store DataFrames\n",
    "dataframes = []\n",
    "\n",
    "# Loop through each file and read its content into a DataFrame\n",
    "for file_name in file_names:\n",
    "    df = pd.read_csv(file_name)  # Read the CSV file\n",
    "    dataframes.append(df)        # Append the DataFrame to the list\n",
    "\n",
    "# Concatenate all DataFrames\n",
    "merged_df = pd.concat(dataframes, ignore_index=True)\n",
    "\n",
    "# Save the combined DataFrame to a new CSV file\n",
    "merged_df.to_csv(\"merged_smartphones.csv\", index=False)\n",
    "\n",
    "print(\"All files have been merged and saved to 'merged_smartphones.csv'.\")\n"
   ]
  },
  {
   "cell_type": "code",
   "execution_count": null,
   "metadata": {},
   "outputs": [],
   "source": []
  },
  {
   "cell_type": "code",
   "execution_count": 3,
   "metadata": {},
   "outputs": [
    {
     "data": {
      "text/plain": [
       "Product Name               0\n",
       "Rating (Stars)             0\n",
       "Number of Reviews          0\n",
       "Bought Last Month         15\n",
       "Current MRP                0\n",
       "Dashed MRP                27\n",
       "Discount (%)              29\n",
       "Free Delivery              0\n",
       "Brand                     14\n",
       "Product                  109\n",
       "Storage                   14\n",
       "Color                      4\n",
       "New Bought Last Month      0\n",
       "New Dashed MRP             0\n",
       "New Discount (%)           0\n",
       "RAM                        0\n",
       "dtype: int64"
      ]
     },
     "execution_count": 3,
     "metadata": {},
     "output_type": "execute_result"
    }
   ],
   "source": [
    "df = pd.read_csv(\"merged_smartphones.csv\")\n",
    "df.isnull().sum()"
   ]
  },
  {
   "cell_type": "code",
   "execution_count": 4,
   "metadata": {},
   "outputs": [
    {
     "data": {
      "text/plain": [
       "(455, 16)"
      ]
     },
     "execution_count": 4,
     "metadata": {},
     "output_type": "execute_result"
    }
   ],
   "source": [
    "df.shape"
   ]
  }
 ],
 "metadata": {
  "kernelspec": {
   "display_name": "Python 3",
   "language": "python",
   "name": "python3"
  },
  "language_info": {
   "codemirror_mode": {
    "name": "ipython",
    "version": 3
   },
   "file_extension": ".py",
   "mimetype": "text/x-python",
   "name": "python",
   "nbconvert_exporter": "python",
   "pygments_lexer": "ipython3",
   "version": "3.12.4"
  }
 },
 "nbformat": 4,
 "nbformat_minor": 2
}
