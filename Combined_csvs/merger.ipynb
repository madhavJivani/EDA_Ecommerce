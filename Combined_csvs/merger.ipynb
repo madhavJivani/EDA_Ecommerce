{
 "cells": [
  {
   "cell_type": "code",
   "execution_count": 75,
   "metadata": {},
   "outputs": [
    {
     "name": "stdout",
     "output_type": "stream",
     "text": [
      "All files have been merged and saved to 'merged_smartphones.csv'.\n"
     ]
    }
   ],
   "source": [
    "import pandas as pd\n",
    "\n",
    "# List of CSV file names\n",
    "file_names = [\"iphone.csv\", \"oneplus.csv\", \"oppo.csv\", \"realme.csv\", \"samsung.csv\", \"vivo.csv\", \"xiaomi.csv\"]\n",
    "\n",
    "# Initialize an empty list to store DataFrames\n",
    "dataframes = []\n",
    "\n",
    "# Loop through each file and read its content into a DataFrame\n",
    "for file_name in file_names:\n",
    "    df = pd.read_csv(file_name)  # Read the CSV file\n",
    "    dataframes.append(df)        # Append the DataFrame to the list\n",
    "\n",
    "# Concatenate all DataFrames\n",
    "merged_df = pd.concat(dataframes, ignore_index=True)\n",
    "\n",
    "# Save the combined DataFrame to a new CSV file\n",
    "merged_df.to_csv(\"merged_smartphones.csv\", index=False)\n",
    "\n",
    "print(\"All files have been merged and saved to 'merged_smartphones.csv'.\")\n"
   ]
  },
  {
   "cell_type": "code",
   "execution_count": 76,
   "metadata": {},
   "outputs": [
    {
     "data": {
      "text/plain": [
       "Product Name               0\n",
       "Rating (Stars)             0\n",
       "Number of Reviews          0\n",
       "Bought Last Month         15\n",
       "Current MRP                0\n",
       "Dashed MRP                27\n",
       "Discount (%)              29\n",
       "Free Delivery              0\n",
       "Brand                     14\n",
       "Product                  109\n",
       "Storage                   14\n",
       "Color                      4\n",
       "New Bought Last Month      0\n",
       "New Dashed MRP             0\n",
       "New Discount (%)           0\n",
       "RAM                        0\n",
       "dtype: int64"
      ]
     },
     "execution_count": 76,
     "metadata": {},
     "output_type": "execute_result"
    }
   ],
   "source": [
    "df = pd.read_csv(\"merged_smartphones.csv\")\n",
    "df.isnull().sum()"
   ]
  },
  {
   "cell_type": "code",
   "execution_count": 77,
   "metadata": {},
   "outputs": [
    {
     "data": {
      "text/plain": [
       "(455, 16)"
      ]
     },
     "execution_count": 77,
     "metadata": {},
     "output_type": "execute_result"
    }
   ],
   "source": [
    "df.shape"
   ]
  },
  {
   "cell_type": "code",
   "execution_count": 78,
   "metadata": {},
   "outputs": [
    {
     "data": {
      "text/html": [
       "<div>\n",
       "<style scoped>\n",
       "    .dataframe tbody tr th:only-of-type {\n",
       "        vertical-align: middle;\n",
       "    }\n",
       "\n",
       "    .dataframe tbody tr th {\n",
       "        vertical-align: top;\n",
       "    }\n",
       "\n",
       "    .dataframe thead th {\n",
       "        text-align: right;\n",
       "    }\n",
       "</style>\n",
       "<table border=\"1\" class=\"dataframe\">\n",
       "  <thead>\n",
       "    <tr style=\"text-align: right;\">\n",
       "      <th></th>\n",
       "      <th>Product Name</th>\n",
       "      <th>Rating (Stars)</th>\n",
       "      <th>Number of Reviews</th>\n",
       "      <th>Bought Last Month</th>\n",
       "      <th>Current MRP</th>\n",
       "      <th>Dashed MRP</th>\n",
       "      <th>Discount (%)</th>\n",
       "      <th>Free Delivery</th>\n",
       "      <th>Brand</th>\n",
       "      <th>Product</th>\n",
       "      <th>Storage</th>\n",
       "      <th>Color</th>\n",
       "      <th>New Bought Last Month</th>\n",
       "      <th>New Dashed MRP</th>\n",
       "      <th>New Discount (%)</th>\n",
       "      <th>RAM</th>\n",
       "    </tr>\n",
       "  </thead>\n",
       "  <tbody>\n",
       "    <tr>\n",
       "      <th>50</th>\n",
       "      <td>Apple iPhone 15 Pro Max (1 TB) - Natural Titanium</td>\n",
       "      <td>3.0</td>\n",
       "      <td>10</td>\n",
       "      <td>M.R.P:</td>\n",
       "      <td>159900.0</td>\n",
       "      <td>₹199900</td>\n",
       "      <td>(20% off)</td>\n",
       "      <td>0</td>\n",
       "      <td>NaN</td>\n",
       "      <td>NaN</td>\n",
       "      <td>NaN</td>\n",
       "      <td>Red</td>\n",
       "      <td>0</td>\n",
       "      <td>199900.0</td>\n",
       "      <td>20.0</td>\n",
       "      <td>6 GB</td>\n",
       "    </tr>\n",
       "    <tr>\n",
       "      <th>52</th>\n",
       "      <td>Apple iPhone 15 Pro Max (1 TB) - Black Titanium</td>\n",
       "      <td>3.6</td>\n",
       "      <td>7</td>\n",
       "      <td>M.R.P:</td>\n",
       "      <td>159900.0</td>\n",
       "      <td>₹199900</td>\n",
       "      <td>(20% off)</td>\n",
       "      <td>0</td>\n",
       "      <td>NaN</td>\n",
       "      <td>NaN</td>\n",
       "      <td>NaN</td>\n",
       "      <td>Red</td>\n",
       "      <td>0</td>\n",
       "      <td>199900.0</td>\n",
       "      <td>20.0</td>\n",
       "      <td>6 GB</td>\n",
       "    </tr>\n",
       "    <tr>\n",
       "      <th>56</th>\n",
       "      <td>Apple iPhone 13 Pro Max (1TB) - Silver</td>\n",
       "      <td>4.6</td>\n",
       "      <td>1,561</td>\n",
       "      <td>M.R.P:</td>\n",
       "      <td>157900.0</td>\n",
       "      <td>₹179900</td>\n",
       "      <td>(12% off)</td>\n",
       "      <td>0</td>\n",
       "      <td>NaN</td>\n",
       "      <td>NaN</td>\n",
       "      <td>NaN</td>\n",
       "      <td>Red</td>\n",
       "      <td>0</td>\n",
       "      <td>179900.0</td>\n",
       "      <td>12.0</td>\n",
       "      <td>4 or 6 GB</td>\n",
       "    </tr>\n",
       "    <tr>\n",
       "      <th>77</th>\n",
       "      <td>Apple iPhone 16 Pro (1 TB) - White Titanium</td>\n",
       "      <td>3.8</td>\n",
       "      <td>44</td>\n",
       "      <td>NaN</td>\n",
       "      <td>169900.0</td>\n",
       "      <td>NaN</td>\n",
       "      <td>NaN</td>\n",
       "      <td>0</td>\n",
       "      <td>NaN</td>\n",
       "      <td>NaN</td>\n",
       "      <td>NaN</td>\n",
       "      <td>Red</td>\n",
       "      <td>0</td>\n",
       "      <td>169900.0</td>\n",
       "      <td>0.0</td>\n",
       "      <td>8 GB</td>\n",
       "    </tr>\n",
       "    <tr>\n",
       "      <th>84</th>\n",
       "      <td>Apple iPhone 15 Pro Max (1 TB) - White Titanium</td>\n",
       "      <td>4.2</td>\n",
       "      <td>7</td>\n",
       "      <td>M.R.P:</td>\n",
       "      <td>159900.0</td>\n",
       "      <td>₹199900</td>\n",
       "      <td>(20% off)</td>\n",
       "      <td>0</td>\n",
       "      <td>NaN</td>\n",
       "      <td>NaN</td>\n",
       "      <td>NaN</td>\n",
       "      <td>Red</td>\n",
       "      <td>0</td>\n",
       "      <td>199900.0</td>\n",
       "      <td>20.0</td>\n",
       "      <td>6 GB</td>\n",
       "    </tr>\n",
       "    <tr>\n",
       "      <th>...</th>\n",
       "      <td>...</td>\n",
       "      <td>...</td>\n",
       "      <td>...</td>\n",
       "      <td>...</td>\n",
       "      <td>...</td>\n",
       "      <td>...</td>\n",
       "      <td>...</td>\n",
       "      <td>...</td>\n",
       "      <td>...</td>\n",
       "      <td>...</td>\n",
       "      <td>...</td>\n",
       "      <td>...</td>\n",
       "      <td>...</td>\n",
       "      <td>...</td>\n",
       "      <td>...</td>\n",
       "      <td>...</td>\n",
       "    </tr>\n",
       "    <tr>\n",
       "      <th>372</th>\n",
       "      <td>vivo Y18e (Space Black, 4GB RAM, 64GB Storage)...</td>\n",
       "      <td>3.9</td>\n",
       "      <td>153</td>\n",
       "      <td>100+ bought in past month</td>\n",
       "      <td>7999.0</td>\n",
       "      <td>₹11999</td>\n",
       "      <td>(33% off)</td>\n",
       "      <td>No</td>\n",
       "      <td>Unknown</td>\n",
       "      <td>NaN</td>\n",
       "      <td>64GB</td>\n",
       "      <td>Black</td>\n",
       "      <td>100</td>\n",
       "      <td>11999</td>\n",
       "      <td>33.0</td>\n",
       "      <td>4GB</td>\n",
       "    </tr>\n",
       "    <tr>\n",
       "      <th>373</th>\n",
       "      <td>vivo Y28s 5G(Twinkling Purple, 8GB RAM, 128GB ...</td>\n",
       "      <td>3.7</td>\n",
       "      <td>74</td>\n",
       "      <td>100+ bought in past month</td>\n",
       "      <td>16499.0</td>\n",
       "      <td>₹21999</td>\n",
       "      <td>(25% off)</td>\n",
       "      <td>No</td>\n",
       "      <td>Unknown</td>\n",
       "      <td>NaN</td>\n",
       "      <td>128GB</td>\n",
       "      <td>Black</td>\n",
       "      <td>100</td>\n",
       "      <td>21999</td>\n",
       "      <td>25.0</td>\n",
       "      <td>8GB</td>\n",
       "    </tr>\n",
       "    <tr>\n",
       "      <th>375</th>\n",
       "      <td>vivo Y18e (Gem Green, 4GB RAM, 64GB Storage) w...</td>\n",
       "      <td>3.9</td>\n",
       "      <td>153</td>\n",
       "      <td>100+ bought in past month</td>\n",
       "      <td>7999.0</td>\n",
       "      <td>₹11999</td>\n",
       "      <td>(33% off)</td>\n",
       "      <td>No</td>\n",
       "      <td>Unknown</td>\n",
       "      <td>NaN</td>\n",
       "      <td>64GB</td>\n",
       "      <td>Green</td>\n",
       "      <td>100</td>\n",
       "      <td>11999</td>\n",
       "      <td>33.0</td>\n",
       "      <td>4GB</td>\n",
       "    </tr>\n",
       "    <tr>\n",
       "      <th>376</th>\n",
       "      <td>vivo Y18 (Space Black, 4GB RAM, 128GB Storage)...</td>\n",
       "      <td>3.8</td>\n",
       "      <td>37</td>\n",
       "      <td>0</td>\n",
       "      <td>9499.0</td>\n",
       "      <td>₹13999</td>\n",
       "      <td>(32% off)</td>\n",
       "      <td>No</td>\n",
       "      <td>Unknown</td>\n",
       "      <td>NaN</td>\n",
       "      <td>128GB</td>\n",
       "      <td>Black</td>\n",
       "      <td>0</td>\n",
       "      <td>13999</td>\n",
       "      <td>32.0</td>\n",
       "      <td>4GB</td>\n",
       "    </tr>\n",
       "    <tr>\n",
       "      <th>378</th>\n",
       "      <td>vivo Y200 Pro 5G (Silk Green, 8GB RAM, 128GB S...</td>\n",
       "      <td>3.8</td>\n",
       "      <td>40</td>\n",
       "      <td>0</td>\n",
       "      <td>24999.0</td>\n",
       "      <td>₹29999</td>\n",
       "      <td>(17% off)</td>\n",
       "      <td>No</td>\n",
       "      <td>Unknown</td>\n",
       "      <td>NaN</td>\n",
       "      <td>128GB</td>\n",
       "      <td>Green</td>\n",
       "      <td>0</td>\n",
       "      <td>29999</td>\n",
       "      <td>17.0</td>\n",
       "      <td>8GB</td>\n",
       "    </tr>\n",
       "  </tbody>\n",
       "</table>\n",
       "<p>109 rows × 16 columns</p>\n",
       "</div>"
      ],
      "text/plain": [
       "                                          Product Name  Rating (Stars)  \\\n",
       "50   Apple iPhone 15 Pro Max (1 TB) - Natural Titanium             3.0   \n",
       "52     Apple iPhone 15 Pro Max (1 TB) - Black Titanium             3.6   \n",
       "56              Apple iPhone 13 Pro Max (1TB) - Silver             4.6   \n",
       "77         Apple iPhone 16 Pro (1 TB) - White Titanium             3.8   \n",
       "84     Apple iPhone 15 Pro Max (1 TB) - White Titanium             4.2   \n",
       "..                                                 ...             ...   \n",
       "372  vivo Y18e (Space Black, 4GB RAM, 64GB Storage)...             3.9   \n",
       "373  vivo Y28s 5G(Twinkling Purple, 8GB RAM, 128GB ...             3.7   \n",
       "375  vivo Y18e (Gem Green, 4GB RAM, 64GB Storage) w...             3.9   \n",
       "376  vivo Y18 (Space Black, 4GB RAM, 128GB Storage)...             3.8   \n",
       "378  vivo Y200 Pro 5G (Silk Green, 8GB RAM, 128GB S...             3.8   \n",
       "\n",
       "    Number of Reviews          Bought Last Month  Current MRP Dashed MRP  \\\n",
       "50                 10                     M.R.P:     159900.0    ₹199900   \n",
       "52                  7                     M.R.P:     159900.0    ₹199900   \n",
       "56              1,561                     M.R.P:     157900.0    ₹179900   \n",
       "77                 44                        NaN     169900.0        NaN   \n",
       "84                  7                     M.R.P:     159900.0    ₹199900   \n",
       "..                ...                        ...          ...        ...   \n",
       "372               153  100+ bought in past month       7999.0     ₹11999   \n",
       "373                74  100+ bought in past month      16499.0     ₹21999   \n",
       "375               153  100+ bought in past month       7999.0     ₹11999   \n",
       "376                37                          0       9499.0     ₹13999   \n",
       "378                40                          0      24999.0     ₹29999   \n",
       "\n",
       "    Discount (%) Free Delivery    Brand Product Storage  Color  \\\n",
       "50     (20% off)             0      NaN     NaN     NaN    Red   \n",
       "52     (20% off)             0      NaN     NaN     NaN    Red   \n",
       "56     (12% off)             0      NaN     NaN     NaN    Red   \n",
       "77           NaN             0      NaN     NaN     NaN    Red   \n",
       "84     (20% off)             0      NaN     NaN     NaN    Red   \n",
       "..           ...           ...      ...     ...     ...    ...   \n",
       "372    (33% off)            No  Unknown     NaN    64GB  Black   \n",
       "373    (25% off)            No  Unknown     NaN   128GB  Black   \n",
       "375    (33% off)            No  Unknown     NaN    64GB  Green   \n",
       "376    (32% off)            No  Unknown     NaN   128GB  Black   \n",
       "378    (17% off)            No  Unknown     NaN   128GB  Green   \n",
       "\n",
       "     New Bought Last Month New Dashed MRP  New Discount (%)        RAM  \n",
       "50                       0       199900.0              20.0       6 GB  \n",
       "52                       0       199900.0              20.0       6 GB  \n",
       "56                       0       179900.0              12.0  4 or 6 GB  \n",
       "77                       0       169900.0               0.0       8 GB  \n",
       "84                       0       199900.0              20.0       6 GB  \n",
       "..                     ...            ...               ...        ...  \n",
       "372                    100          11999              33.0        4GB  \n",
       "373                    100          21999              25.0        8GB  \n",
       "375                    100          11999              33.0        4GB  \n",
       "376                      0          13999              32.0        4GB  \n",
       "378                      0          29999              17.0        8GB  \n",
       "\n",
       "[109 rows x 16 columns]"
      ]
     },
     "execution_count": 78,
     "metadata": {},
     "output_type": "execute_result"
    }
   ],
   "source": [
    "df[df['Product'].isnull()]"
   ]
  },
  {
   "cell_type": "code",
   "execution_count": 79,
   "metadata": {},
   "outputs": [
    {
     "data": {
      "text/plain": [
       "0"
      ]
     },
     "execution_count": 79,
     "metadata": {},
     "output_type": "execute_result"
    }
   ],
   "source": [
    "brands = ['iphone', 'oneplus', 'oppo', 'vivo', 'realme', 'xiaomi', 'redmi', 'samsung']\n",
    "\n",
    "# Function to extract the brand based on keywords in 'Product Name'\n",
    "def extract_brand(product_name):\n",
    "    for brand in brands:\n",
    "        if brand.lower() in product_name.lower():\n",
    "            return brand.capitalize()\n",
    "    return 'Unknown'  # If no brand is matched\n",
    "\n",
    "# Fill missing 'Brand' based on 'Product Name'\n",
    "df['Brand'] = df['Brand'].fillna(df['Product Name'].apply(extract_brand))\n",
    "\n",
    "df['Brand'].isnull().sum()"
   ]
  },
  {
   "cell_type": "code",
   "execution_count": 80,
   "metadata": {},
   "outputs": [
    {
     "data": {
      "text/plain": [
       "0"
      ]
     },
     "execution_count": 80,
     "metadata": {},
     "output_type": "execute_result"
    }
   ],
   "source": [
    "import re\n",
    "\n",
    "def clean_product_name(product_name):\n",
    "    # Removing storage (e.g., '64GB', '128GB')\n",
    "    product_name = re.sub(r'\\d+GB', '', product_name)\n",
    "    # Removing color (e.g., 'Black', 'Red', 'Green')\n",
    "    product_name = re.sub(r'(Black|Red|Green|Blue|White|Silver|Titanium)', '', product_name, flags=re.IGNORECASE)\n",
    "    # Removing RAM info (e.g., '8GB', '4GB')\n",
    "    product_name = re.sub(r'\\d+GB RAM', '', product_name)\n",
    "    product_name = re.sub(r'\\d+ GB', '', product_name)\n",
    "    # Clean extra spaces\n",
    "    return ' '.join(product_name.split())\n",
    "\n",
    "# Clean 'Product Name' to remove storage, color, and RAM info\n",
    "df['Product Name'] = df['Product Name'].apply(clean_product_name)\n",
    "\n",
    "# Fill missing 'Product' with cleaned 'Product Name'\n",
    "df['Product'] = df['Product'].fillna(df['Product Name'])\n",
    "\n",
    "df['Product'].isnull().sum()"
   ]
  },
  {
   "cell_type": "code",
   "execution_count": 81,
   "metadata": {},
   "outputs": [
    {
     "data": {
      "text/plain": [
       "array(['1', '0', 'Yes', 'No'], dtype=object)"
      ]
     },
     "execution_count": 81,
     "metadata": {},
     "output_type": "execute_result"
    }
   ],
   "source": [
    "df[\"Free Delivery\"].unique()"
   ]
  },
  {
   "cell_type": "code",
   "execution_count": 82,
   "metadata": {},
   "outputs": [
    {
     "data": {
      "text/plain": [
       "Product Name              0\n",
       "Rating (Stars)            0\n",
       "Number of Reviews         0\n",
       "Bought Last Month        15\n",
       "Current MRP               0\n",
       "Dashed MRP               27\n",
       "Discount (%)             29\n",
       "Free Delivery             0\n",
       "Brand                     0\n",
       "Product                   0\n",
       "Storage                  14\n",
       "Color                     4\n",
       "New Bought Last Month     0\n",
       "New Dashed MRP            0\n",
       "New Discount (%)          0\n",
       "RAM                       0\n",
       "dtype: int64"
      ]
     },
     "execution_count": 82,
     "metadata": {},
     "output_type": "execute_result"
    }
   ],
   "source": [
    "df.isnull().sum()"
   ]
  },
  {
   "cell_type": "code",
   "execution_count": 83,
   "metadata": {},
   "outputs": [],
   "source": [
    "df['Bought Last Month'] = df['Bought Last Month'].fillna(0)\n",
    "\n",
    "df['Discount (%)'] = df['Discount (%)'].fillna(0)\n",
    "\n",
    "# Fill missing 'Dashed MRP' with the value from 'Current MRP'\n",
    "df['Dashed MRP'] = df['Dashed MRP'].fillna(df['Current MRP'])\n",
    "\n",
    "# Fill missing 'Color' with 'Black'\n",
    "df['Color'] = df['Color'].fillna('Black')"
   ]
  },
  {
   "cell_type": "code",
   "execution_count": 84,
   "metadata": {},
   "outputs": [
    {
     "data": {
      "text/plain": [
       "Product Name              0\n",
       "Rating (Stars)            0\n",
       "Number of Reviews         0\n",
       "Bought Last Month         0\n",
       "Current MRP               0\n",
       "Dashed MRP                0\n",
       "Discount (%)              0\n",
       "Free Delivery             0\n",
       "Brand                     0\n",
       "Product                   0\n",
       "Storage                  14\n",
       "Color                     0\n",
       "New Bought Last Month     0\n",
       "New Dashed MRP            0\n",
       "New Discount (%)          0\n",
       "RAM                       0\n",
       "dtype: int64"
      ]
     },
     "execution_count": 84,
     "metadata": {},
     "output_type": "execute_result"
    }
   ],
   "source": [
    "df.isnull().sum()"
   ]
  },
  {
   "cell_type": "code",
   "execution_count": 85,
   "metadata": {},
   "outputs": [
    {
     "data": {
      "text/plain": [
       "0    128GB\n",
       "Name: Storage, dtype: object"
      ]
     },
     "execution_count": 85,
     "metadata": {},
     "output_type": "execute_result"
    }
   ],
   "source": [
    "df[\"Storage\"].mode()"
   ]
  },
  {
   "cell_type": "code",
   "execution_count": 86,
   "metadata": {},
   "outputs": [],
   "source": [
    "df.fillna(df[\"Storage\"].mode()[0], inplace=True)"
   ]
  },
  {
   "cell_type": "code",
   "execution_count": 87,
   "metadata": {},
   "outputs": [
    {
     "data": {
      "text/plain": [
       "Product Name             0\n",
       "Rating (Stars)           0\n",
       "Number of Reviews        0\n",
       "Bought Last Month        0\n",
       "Current MRP              0\n",
       "Dashed MRP               0\n",
       "Discount (%)             0\n",
       "Free Delivery            0\n",
       "Brand                    0\n",
       "Product                  0\n",
       "Storage                  0\n",
       "Color                    0\n",
       "New Bought Last Month    0\n",
       "New Dashed MRP           0\n",
       "New Discount (%)         0\n",
       "RAM                      0\n",
       "dtype: int64"
      ]
     },
     "execution_count": 87,
     "metadata": {},
     "output_type": "execute_result"
    }
   ],
   "source": [
    "df.isnull().sum()"
   ]
  },
  {
   "cell_type": "code",
   "execution_count": 88,
   "metadata": {},
   "outputs": [
    {
     "data": {
      "text/plain": [
       "(455, 16)"
      ]
     },
     "execution_count": 88,
     "metadata": {},
     "output_type": "execute_result"
    }
   ],
   "source": [
    "df.shape"
   ]
  },
  {
   "cell_type": "code",
   "execution_count": 89,
   "metadata": {},
   "outputs": [
    {
     "data": {
      "text/plain": [
       "Product Name              object\n",
       "Rating (Stars)           float64\n",
       "Number of Reviews         object\n",
       "Bought Last Month         object\n",
       "Current MRP              float64\n",
       "Dashed MRP                object\n",
       "Discount (%)              object\n",
       "Free Delivery             object\n",
       "Brand                     object\n",
       "Product                   object\n",
       "Storage                   object\n",
       "Color                     object\n",
       "New Bought Last Month      int64\n",
       "New Dashed MRP            object\n",
       "New Discount (%)         float64\n",
       "RAM                       object\n",
       "dtype: object"
      ]
     },
     "execution_count": 89,
     "metadata": {},
     "output_type": "execute_result"
    }
   ],
   "source": [
    "df.dtypes"
   ]
  },
  {
   "cell_type": "code",
   "execution_count": 90,
   "metadata": {},
   "outputs": [
    {
     "data": {
      "text/html": [
       "<div>\n",
       "<style scoped>\n",
       "    .dataframe tbody tr th:only-of-type {\n",
       "        vertical-align: middle;\n",
       "    }\n",
       "\n",
       "    .dataframe tbody tr th {\n",
       "        vertical-align: top;\n",
       "    }\n",
       "\n",
       "    .dataframe thead th {\n",
       "        text-align: right;\n",
       "    }\n",
       "</style>\n",
       "<table border=\"1\" class=\"dataframe\">\n",
       "  <thead>\n",
       "    <tr style=\"text-align: right;\">\n",
       "      <th></th>\n",
       "      <th>Product Name</th>\n",
       "      <th>Rating (Stars)</th>\n",
       "      <th>Number of Reviews</th>\n",
       "      <th>Bought Last Month</th>\n",
       "      <th>Current MRP</th>\n",
       "      <th>Dashed MRP</th>\n",
       "      <th>Discount (%)</th>\n",
       "      <th>Free Delivery</th>\n",
       "      <th>Brand</th>\n",
       "      <th>Product</th>\n",
       "      <th>Storage</th>\n",
       "      <th>Color</th>\n",
       "      <th>New Bought Last Month</th>\n",
       "      <th>New Dashed MRP</th>\n",
       "      <th>New Discount (%)</th>\n",
       "      <th>RAM</th>\n",
       "    </tr>\n",
       "  </thead>\n",
       "  <tbody>\n",
       "    <tr>\n",
       "      <th>0</th>\n",
       "      <td>Apple iPhone 15 () -</td>\n",
       "      <td>4.5</td>\n",
       "      <td>217</td>\n",
       "      <td>200+ bought in past month</td>\n",
       "      <td>65900.0</td>\n",
       "      <td>₹79900</td>\n",
       "      <td>(18% off)</td>\n",
       "      <td>1</td>\n",
       "      <td>Apple</td>\n",
       "      <td>iPhone 15</td>\n",
       "      <td>128GB</td>\n",
       "      <td>Green</td>\n",
       "      <td>200</td>\n",
       "      <td>79900.0</td>\n",
       "      <td>18.0</td>\n",
       "      <td>6 GB</td>\n",
       "    </tr>\n",
       "    <tr>\n",
       "      <th>1</th>\n",
       "      <td>Apple iPhone 15 () - Pink</td>\n",
       "      <td>4.4</td>\n",
       "      <td>213</td>\n",
       "      <td>100+ bought in past month</td>\n",
       "      <td>65900.0</td>\n",
       "      <td>₹79600</td>\n",
       "      <td>(17% off)</td>\n",
       "      <td>1</td>\n",
       "      <td>Apple</td>\n",
       "      <td>iPhone 15</td>\n",
       "      <td>128GB</td>\n",
       "      <td>Pink</td>\n",
       "      <td>100</td>\n",
       "      <td>79600.0</td>\n",
       "      <td>17.0</td>\n",
       "      <td>6 GB</td>\n",
       "    </tr>\n",
       "    <tr>\n",
       "      <th>2</th>\n",
       "      <td>Apple iPhone 13 () - Starlight</td>\n",
       "      <td>4.5</td>\n",
       "      <td>7,819</td>\n",
       "      <td>5K+ bought in past month</td>\n",
       "      <td>45490.0</td>\n",
       "      <td>₹59900</td>\n",
       "      <td>(24% off)</td>\n",
       "      <td>1</td>\n",
       "      <td>Apple</td>\n",
       "      <td>iPhone 13</td>\n",
       "      <td>128GB</td>\n",
       "      <td>Starlight</td>\n",
       "      <td>5000</td>\n",
       "      <td>59900.0</td>\n",
       "      <td>24.0</td>\n",
       "      <td>4 or 6 GB</td>\n",
       "    </tr>\n",
       "    <tr>\n",
       "      <th>3</th>\n",
       "      <td>Apple iPhone 13 () - Midnight</td>\n",
       "      <td>4.5</td>\n",
       "      <td>6,614</td>\n",
       "      <td>5K+ bought in past month</td>\n",
       "      <td>45490.0</td>\n",
       "      <td>₹59600</td>\n",
       "      <td>(24% off)</td>\n",
       "      <td>1</td>\n",
       "      <td>Apple</td>\n",
       "      <td>iPhone 13</td>\n",
       "      <td>128GB</td>\n",
       "      <td>Midnight</td>\n",
       "      <td>5000</td>\n",
       "      <td>59600.0</td>\n",
       "      <td>24.0</td>\n",
       "      <td>4 or 6 GB</td>\n",
       "    </tr>\n",
       "    <tr>\n",
       "      <th>4</th>\n",
       "      <td>Apple iPhone 13 () - Pink</td>\n",
       "      <td>4.5</td>\n",
       "      <td>3,136</td>\n",
       "      <td>5K+ bought in past month</td>\n",
       "      <td>45490.0</td>\n",
       "      <td>₹59900</td>\n",
       "      <td>(24% off)</td>\n",
       "      <td>1</td>\n",
       "      <td>Apple</td>\n",
       "      <td>iPhone 13</td>\n",
       "      <td>128GB</td>\n",
       "      <td>Pink</td>\n",
       "      <td>5000</td>\n",
       "      <td>59900.0</td>\n",
       "      <td>24.0</td>\n",
       "      <td>4 or 6 GB</td>\n",
       "    </tr>\n",
       "    <tr>\n",
       "      <th>5</th>\n",
       "      <td>Apple iPhone 16 () -</td>\n",
       "      <td>4.5</td>\n",
       "      <td>79</td>\n",
       "      <td>500+ bought in past month</td>\n",
       "      <td>78400.0</td>\n",
       "      <td>₹79900</td>\n",
       "      <td>(2% off)</td>\n",
       "      <td>1</td>\n",
       "      <td>Apple</td>\n",
       "      <td>iPhone 16</td>\n",
       "      <td>128GB</td>\n",
       "      <td>Black</td>\n",
       "      <td>500</td>\n",
       "      <td>79900.0</td>\n",
       "      <td>2.0</td>\n",
       "      <td>8 GB</td>\n",
       "    </tr>\n",
       "    <tr>\n",
       "      <th>6</th>\n",
       "      <td>Apple iPhone 15 () -</td>\n",
       "      <td>4.5</td>\n",
       "      <td>637</td>\n",
       "      <td>500+ bought in past month</td>\n",
       "      <td>65900.0</td>\n",
       "      <td>₹79600</td>\n",
       "      <td>(17% off)</td>\n",
       "      <td>1</td>\n",
       "      <td>Apple</td>\n",
       "      <td>iPhone 15</td>\n",
       "      <td>128GB</td>\n",
       "      <td>Blue</td>\n",
       "      <td>500</td>\n",
       "      <td>79600.0</td>\n",
       "      <td>17.0</td>\n",
       "      <td>6 GB</td>\n",
       "    </tr>\n",
       "    <tr>\n",
       "      <th>7</th>\n",
       "      <td>Apple iPhone 16 () - Ultramarine</td>\n",
       "      <td>4.5</td>\n",
       "      <td>79</td>\n",
       "      <td>500+ bought in past month</td>\n",
       "      <td>77900.0</td>\n",
       "      <td>₹79900</td>\n",
       "      <td>(3% off)</td>\n",
       "      <td>1</td>\n",
       "      <td>Apple</td>\n",
       "      <td>iPhone 16</td>\n",
       "      <td>128GB</td>\n",
       "      <td>Ultramarine</td>\n",
       "      <td>500</td>\n",
       "      <td>79900.0</td>\n",
       "      <td>3.0</td>\n",
       "      <td>8 GB</td>\n",
       "    </tr>\n",
       "    <tr>\n",
       "      <th>8</th>\n",
       "      <td>Apple iPhone 15 Plus () -</td>\n",
       "      <td>4.6</td>\n",
       "      <td>236</td>\n",
       "      <td>400+ bought in past month</td>\n",
       "      <td>69900.0</td>\n",
       "      <td>₹89600</td>\n",
       "      <td>(22% off)</td>\n",
       "      <td>1</td>\n",
       "      <td>Apple</td>\n",
       "      <td>iPhone 15 Plus</td>\n",
       "      <td>128GB</td>\n",
       "      <td>Blue</td>\n",
       "      <td>400</td>\n",
       "      <td>89600.0</td>\n",
       "      <td>22.0</td>\n",
       "      <td>6 GB</td>\n",
       "    </tr>\n",
       "    <tr>\n",
       "      <th>9</th>\n",
       "      <td>Apple iPhone 14 () -</td>\n",
       "      <td>4.5</td>\n",
       "      <td>1,640</td>\n",
       "      <td>200+ bought in past month</td>\n",
       "      <td>54900.0</td>\n",
       "      <td>₹69600</td>\n",
       "      <td>(21% off)</td>\n",
       "      <td>1</td>\n",
       "      <td>Apple</td>\n",
       "      <td>iPhone 14</td>\n",
       "      <td>128GB</td>\n",
       "      <td>Blue</td>\n",
       "      <td>200</td>\n",
       "      <td>69600.0</td>\n",
       "      <td>21.0</td>\n",
       "      <td>6 GB</td>\n",
       "    </tr>\n",
       "  </tbody>\n",
       "</table>\n",
       "</div>"
      ],
      "text/plain": [
       "                       Product Name  Rating (Stars) Number of Reviews  \\\n",
       "0              Apple iPhone 15 () -             4.5               217   \n",
       "1         Apple iPhone 15 () - Pink             4.4               213   \n",
       "2    Apple iPhone 13 () - Starlight             4.5             7,819   \n",
       "3     Apple iPhone 13 () - Midnight             4.5             6,614   \n",
       "4         Apple iPhone 13 () - Pink             4.5             3,136   \n",
       "5              Apple iPhone 16 () -             4.5                79   \n",
       "6              Apple iPhone 15 () -             4.5               637   \n",
       "7  Apple iPhone 16 () - Ultramarine             4.5                79   \n",
       "8         Apple iPhone 15 Plus () -             4.6               236   \n",
       "9              Apple iPhone 14 () -             4.5             1,640   \n",
       "\n",
       "           Bought Last Month  Current MRP Dashed MRP Discount (%)  \\\n",
       "0  200+ bought in past month      65900.0     ₹79900    (18% off)   \n",
       "1  100+ bought in past month      65900.0     ₹79600    (17% off)   \n",
       "2   5K+ bought in past month      45490.0     ₹59900    (24% off)   \n",
       "3   5K+ bought in past month      45490.0     ₹59600    (24% off)   \n",
       "4   5K+ bought in past month      45490.0     ₹59900    (24% off)   \n",
       "5  500+ bought in past month      78400.0     ₹79900     (2% off)   \n",
       "6  500+ bought in past month      65900.0     ₹79600    (17% off)   \n",
       "7  500+ bought in past month      77900.0     ₹79900     (3% off)   \n",
       "8  400+ bought in past month      69900.0     ₹89600    (22% off)   \n",
       "9  200+ bought in past month      54900.0     ₹69600    (21% off)   \n",
       "\n",
       "  Free Delivery  Brand         Product Storage        Color  \\\n",
       "0             1  Apple       iPhone 15   128GB        Green   \n",
       "1             1  Apple       iPhone 15   128GB         Pink   \n",
       "2             1  Apple       iPhone 13   128GB    Starlight   \n",
       "3             1  Apple       iPhone 13   128GB     Midnight   \n",
       "4             1  Apple       iPhone 13   128GB         Pink   \n",
       "5             1  Apple       iPhone 16   128GB        Black   \n",
       "6             1  Apple       iPhone 15   128GB         Blue   \n",
       "7             1  Apple       iPhone 16   128GB  Ultramarine   \n",
       "8             1  Apple  iPhone 15 Plus   128GB         Blue   \n",
       "9             1  Apple       iPhone 14   128GB         Blue   \n",
       "\n",
       "   New Bought Last Month New Dashed MRP  New Discount (%)        RAM  \n",
       "0                    200        79900.0              18.0       6 GB  \n",
       "1                    100        79600.0              17.0       6 GB  \n",
       "2                   5000        59900.0              24.0  4 or 6 GB  \n",
       "3                   5000        59600.0              24.0  4 or 6 GB  \n",
       "4                   5000        59900.0              24.0  4 or 6 GB  \n",
       "5                    500        79900.0               2.0       8 GB  \n",
       "6                    500        79600.0              17.0       6 GB  \n",
       "7                    500        79900.0               3.0       8 GB  \n",
       "8                    400        89600.0              22.0       6 GB  \n",
       "9                    200        69600.0              21.0       6 GB  "
      ]
     },
     "execution_count": 90,
     "metadata": {},
     "output_type": "execute_result"
    }
   ],
   "source": [
    "df.head(10)"
   ]
  },
  {
   "cell_type": "code",
   "execution_count": 91,
   "metadata": {},
   "outputs": [
    {
     "data": {
      "text/plain": [
       "array(['217', '213', '7,819', '6,614', '3,136', '79', '637', '236',\n",
       "       '1,640', '6,323', '691', '2,063', '2,242', '44', '7', '265', '4',\n",
       "       '76', '3', '53', '403', '848', '97', '1', '176', '88', '556', '18',\n",
       "       '218', '318', '1,331', '10', '401', '63', '1,561', '112', '116',\n",
       "       '463', '35', '256', '339', '134', '5', '6', '125', '61', '86',\n",
       "       '83', '29', '24', '151', '84', '26', '8', '2', '14', '98', '12',\n",
       "       '115', '9', '446', '1,437', '5,268', '21,342', '1,258', '5,555',\n",
       "       '408', '228', '22,285', '1,184', '335', '1,693', '251', '712',\n",
       "       '1,301', '635', '248', '591', '186', '967', '157', '129', '100',\n",
       "       '8,283', '135', '7,015', '310', '13', '610', '150,734', '2,700',\n",
       "       '212', '2,234', '54', '11', '747', '178', '73', '28', '77', '52',\n",
       "       '57', '70', '21', '15,271', '1,470', '2,472', '58', '17', '469',\n",
       "       '416', '1,352', '263', '400', '139', '571', '438', '56', '123',\n",
       "       '567', '182', '202', '520', '68', '121', '99', '391', '280', '132',\n",
       "       '454', '32', '231', '715', '39', '147', '41', '34', '4,527', '439',\n",
       "       '573', '355', '35,249', '327', '1,730', '1,383', '174', '36,520',\n",
       "       '12,329', '110,405', '285', '1,432', '74', '311', '43', '30', '16',\n",
       "       '20', '37', '144', '75', '40', '953', '153', '557', '46', '3,947',\n",
       "       '10,021', '232', '5,707', '863', '1,401', '15,056', '4,000',\n",
       "       '2,561', '257', '8,014', '2,324', '1,241', '23,772', '50', '8,776',\n",
       "       '101,748', '82'], dtype=object)"
      ]
     },
     "execution_count": 91,
     "metadata": {},
     "output_type": "execute_result"
    }
   ],
   "source": [
    "df['Number of Reviews'].unique()"
   ]
  },
  {
   "cell_type": "code",
   "execution_count": 92,
   "metadata": {},
   "outputs": [
    {
     "data": {
      "text/plain": [
       "array(['1', '0', 'Yes', 'No'], dtype=object)"
      ]
     },
     "execution_count": 92,
     "metadata": {},
     "output_type": "execute_result"
    }
   ],
   "source": [
    "df['Free Delivery'].unique()"
   ]
  },
  {
   "cell_type": "code",
   "execution_count": 93,
   "metadata": {},
   "outputs": [],
   "source": [
    "# Remove commas from 'Number of Reviews' and convert to numeric\n",
    "df['Number of Reviews'] = df['Number of Reviews'].str.replace(',', '', regex=False).astype(int)\n",
    "\n",
    "# Map 'Yes' to 1 and 'No' to 0 in 'Free Delivery'\n",
    "df['Free Delivery'] = df['Free Delivery'].map({'Yes': 1, 'No': 0}).fillna(0).astype(int)"
   ]
  },
  {
   "cell_type": "code",
   "execution_count": 94,
   "metadata": {},
   "outputs": [
    {
     "data": {
      "text/plain": [
       "array([0, 1])"
      ]
     },
     "execution_count": 94,
     "metadata": {},
     "output_type": "execute_result"
    }
   ],
   "source": [
    "df['Free Delivery'].unique()"
   ]
  },
  {
   "cell_type": "code",
   "execution_count": 95,
   "metadata": {},
   "outputs": [
    {
     "data": {
      "text/plain": [
       "array([   217,    213,   7819,   6614,   3136,     79,    637,    236,\n",
       "         1640,   6323,    691,   2063,   2242,     44,      7,    265,\n",
       "            4,     76,      3,     53,    403,    848,     97,      1,\n",
       "          176,     88,    556,     18,    218,    318,   1331,     10,\n",
       "          401,     63,   1561,    112,    116,    463,     35,    256,\n",
       "          339,    134,      5,      6,    125,     61,     86,     83,\n",
       "           29,     24,    151,     84,     26,      8,      2,     14,\n",
       "           98,     12,    115,      9,    446,   1437,   5268,  21342,\n",
       "         1258,   5555,    408,    228,  22285,   1184,    335,   1693,\n",
       "          251,    712,   1301,    635,    248,    591,    186,    967,\n",
       "          157,    129,    100,   8283,    135,   7015,    310,     13,\n",
       "          610, 150734,   2700,    212,   2234,     54,     11,    747,\n",
       "          178,     73,     28,     77,     52,     57,     70,     21,\n",
       "        15271,   1470,   2472,     58,     17,    469,    416,   1352,\n",
       "          263,    400,    139,    571,    438,     56,    123,    567,\n",
       "          182,    202,    520,     68,    121,     99,    391,    280,\n",
       "          132,    454,     32,    231,    715,     39,    147,     41,\n",
       "           34,   4527,    439,    573,    355,  35249,    327,   1730,\n",
       "         1383,    174,  36520,  12329, 110405,    285,   1432,     74,\n",
       "          311,     43,     30,     16,     20,     37,    144,     75,\n",
       "           40,    953,    153,    557,     46,   3947,  10021,    232,\n",
       "         5707,    863,   1401,  15056,   4000,   2561,    257,   8014,\n",
       "         2324,   1241,  23772,     50,   8776, 101748,     82])"
      ]
     },
     "execution_count": 95,
     "metadata": {},
     "output_type": "execute_result"
    }
   ],
   "source": [
    "df['Number of Reviews'].unique()"
   ]
  },
  {
   "cell_type": "code",
   "execution_count": 96,
   "metadata": {},
   "outputs": [
    {
     "data": {
      "text/plain": [
       "Product Name              object\n",
       "Rating (Stars)           float64\n",
       "Number of Reviews          int32\n",
       "Bought Last Month         object\n",
       "Current MRP              float64\n",
       "Dashed MRP                object\n",
       "Discount (%)              object\n",
       "Free Delivery              int32\n",
       "Brand                     object\n",
       "Product                   object\n",
       "Storage                   object\n",
       "Color                     object\n",
       "New Bought Last Month      int64\n",
       "New Dashed MRP            object\n",
       "New Discount (%)         float64\n",
       "RAM                       object\n",
       "dtype: object"
      ]
     },
     "execution_count": 96,
     "metadata": {},
     "output_type": "execute_result"
    }
   ],
   "source": [
    "df.dtypes\n"
   ]
  },
  {
   "cell_type": "code",
   "execution_count": 97,
   "metadata": {},
   "outputs": [
    {
     "data": {
      "text/plain": [
       "Product Name             0\n",
       "Rating (Stars)           0\n",
       "Number of Reviews        0\n",
       "Bought Last Month        0\n",
       "Current MRP              0\n",
       "Dashed MRP               0\n",
       "Discount (%)             0\n",
       "Free Delivery            0\n",
       "Brand                    0\n",
       "Product                  0\n",
       "Storage                  0\n",
       "Color                    0\n",
       "New Bought Last Month    0\n",
       "New Dashed MRP           0\n",
       "New Discount (%)         0\n",
       "RAM                      0\n",
       "dtype: int64"
      ]
     },
     "execution_count": 97,
     "metadata": {},
     "output_type": "execute_result"
    }
   ],
   "source": [
    "df.isnull().sum()"
   ]
  },
  {
   "cell_type": "code",
   "execution_count": 102,
   "metadata": {},
   "outputs": [
    {
     "data": {
      "text/plain": [
       "array(['6 GB', '4 or 6 GB', '8 GB', '4 GB', '8GB', '16GB', '12GB', '6GB',\n",
       "       '4GB', '3GB', '2GB'], dtype=object)"
      ]
     },
     "execution_count": 102,
     "metadata": {},
     "output_type": "execute_result"
    }
   ],
   "source": [
    "df[\"RAM\"].unique()"
   ]
  },
  {
   "cell_type": "code",
   "execution_count": 103,
   "metadata": {},
   "outputs": [
    {
     "data": {
      "text/plain": [
       "Product Name             0\n",
       "Rating (Stars)           0\n",
       "Number of Reviews        0\n",
       "Bought Last Month        0\n",
       "Current MRP              0\n",
       "Dashed MRP               0\n",
       "Discount (%)             0\n",
       "Free Delivery            0\n",
       "Brand                    0\n",
       "Product                  0\n",
       "Storage                  0\n",
       "Color                    0\n",
       "New Bought Last Month    0\n",
       "New Dashed MRP           0\n",
       "New Discount (%)         0\n",
       "RAM                      0\n",
       "Storage_in_GB            0\n",
       "RAM_in_GB                0\n",
       "dtype: int64"
      ]
     },
     "execution_count": 103,
     "metadata": {},
     "output_type": "execute_result"
    }
   ],
   "source": [
    "# Remove 'GB' from 'Storage' and convert to numeric (in GB)\n",
    "df['Storage_in_GB'] = df['Storage'].str.replace('GB', '', regex=False).apply(pd.to_numeric, errors='coerce')\n",
    "\n",
    "# Clean 'RAM' column: Replace '4 or 6 GB' with '6 GB', remove 'GB' and convert to numeric\n",
    "df['RAM'] = df['RAM'].replace({'4 or 6 GB': '6 GB'})\n",
    "df['RAM_in_GB'] = df['RAM'].str.replace('GB', '', regex=False).apply(pd.to_numeric, errors='coerce')\n",
    "\n",
    "# Fill any NaN values (if there are any) with a reasonable default value (e.g., 0 or the most common value)\n",
    "df['RAM_in_GB'] = df['RAM_in_GB'].fillna(df['RAM_in_GB'].mode()[0]).astype(int)  # Using the mode to fill NaN\n",
    "\n",
    "df.isnull().sum()"
   ]
  },
  {
   "cell_type": "code",
   "execution_count": 104,
   "metadata": {},
   "outputs": [],
   "source": [
    "new_df = df[['Product Name','Rating (Stars)','Number of Reviews','New Bought Last Month','Current MRP','New Dashed MRP','New Discount (%)','Free Delivery','Brand','Product','Color','Storage_in_GB','RAM_in_GB']]\n",
    "\n",
    "# Rename the columns\n",
    "new_df.columns = ['product_name','rating_stars','number_of_reviews','bought_last_month','discounted_mrp','original_mrp','discount%','free_delivery','brand','product','color','storage_in_GB','RAM_in_GB']\n",
    "\n",
    "# Save the DataFrame to a CSV file\n",
    "new_df.to_csv(\"final_cleaned_smartphones.csv\", index=False)"
   ]
  },
  {
   "cell_type": "code",
   "execution_count": 105,
   "metadata": {},
   "outputs": [
    {
     "data": {
      "text/html": [
       "<div>\n",
       "<style scoped>\n",
       "    .dataframe tbody tr th:only-of-type {\n",
       "        vertical-align: middle;\n",
       "    }\n",
       "\n",
       "    .dataframe tbody tr th {\n",
       "        vertical-align: top;\n",
       "    }\n",
       "\n",
       "    .dataframe thead th {\n",
       "        text-align: right;\n",
       "    }\n",
       "</style>\n",
       "<table border=\"1\" class=\"dataframe\">\n",
       "  <thead>\n",
       "    <tr style=\"text-align: right;\">\n",
       "      <th></th>\n",
       "      <th>product_name</th>\n",
       "      <th>rating_stars</th>\n",
       "      <th>number_of_reviews</th>\n",
       "      <th>bought_last_month</th>\n",
       "      <th>discounted_mrp</th>\n",
       "      <th>original_mrp</th>\n",
       "      <th>discount%</th>\n",
       "      <th>free_delivery</th>\n",
       "      <th>brand</th>\n",
       "      <th>product</th>\n",
       "      <th>color</th>\n",
       "      <th>storage_in_GB</th>\n",
       "      <th>RAM_in_GB</th>\n",
       "    </tr>\n",
       "  </thead>\n",
       "  <tbody>\n",
       "    <tr>\n",
       "      <th>0</th>\n",
       "      <td>Apple iPhone 15 () -</td>\n",
       "      <td>4.5</td>\n",
       "      <td>217</td>\n",
       "      <td>200</td>\n",
       "      <td>65900.0</td>\n",
       "      <td>79900.0</td>\n",
       "      <td>18.0</td>\n",
       "      <td>0</td>\n",
       "      <td>Apple</td>\n",
       "      <td>iPhone 15</td>\n",
       "      <td>Green</td>\n",
       "      <td>128</td>\n",
       "      <td>6</td>\n",
       "    </tr>\n",
       "    <tr>\n",
       "      <th>1</th>\n",
       "      <td>Apple iPhone 15 () - Pink</td>\n",
       "      <td>4.4</td>\n",
       "      <td>213</td>\n",
       "      <td>100</td>\n",
       "      <td>65900.0</td>\n",
       "      <td>79600.0</td>\n",
       "      <td>17.0</td>\n",
       "      <td>0</td>\n",
       "      <td>Apple</td>\n",
       "      <td>iPhone 15</td>\n",
       "      <td>Pink</td>\n",
       "      <td>128</td>\n",
       "      <td>6</td>\n",
       "    </tr>\n",
       "    <tr>\n",
       "      <th>2</th>\n",
       "      <td>Apple iPhone 13 () - Starlight</td>\n",
       "      <td>4.5</td>\n",
       "      <td>7819</td>\n",
       "      <td>5000</td>\n",
       "      <td>45490.0</td>\n",
       "      <td>59900.0</td>\n",
       "      <td>24.0</td>\n",
       "      <td>0</td>\n",
       "      <td>Apple</td>\n",
       "      <td>iPhone 13</td>\n",
       "      <td>Starlight</td>\n",
       "      <td>128</td>\n",
       "      <td>6</td>\n",
       "    </tr>\n",
       "    <tr>\n",
       "      <th>3</th>\n",
       "      <td>Apple iPhone 13 () - Midnight</td>\n",
       "      <td>4.5</td>\n",
       "      <td>6614</td>\n",
       "      <td>5000</td>\n",
       "      <td>45490.0</td>\n",
       "      <td>59600.0</td>\n",
       "      <td>24.0</td>\n",
       "      <td>0</td>\n",
       "      <td>Apple</td>\n",
       "      <td>iPhone 13</td>\n",
       "      <td>Midnight</td>\n",
       "      <td>128</td>\n",
       "      <td>6</td>\n",
       "    </tr>\n",
       "    <tr>\n",
       "      <th>4</th>\n",
       "      <td>Apple iPhone 13 () - Pink</td>\n",
       "      <td>4.5</td>\n",
       "      <td>3136</td>\n",
       "      <td>5000</td>\n",
       "      <td>45490.0</td>\n",
       "      <td>59900.0</td>\n",
       "      <td>24.0</td>\n",
       "      <td>0</td>\n",
       "      <td>Apple</td>\n",
       "      <td>iPhone 13</td>\n",
       "      <td>Pink</td>\n",
       "      <td>128</td>\n",
       "      <td>6</td>\n",
       "    </tr>\n",
       "  </tbody>\n",
       "</table>\n",
       "</div>"
      ],
      "text/plain": [
       "                     product_name  rating_stars  number_of_reviews  \\\n",
       "0            Apple iPhone 15 () -           4.5                217   \n",
       "1       Apple iPhone 15 () - Pink           4.4                213   \n",
       "2  Apple iPhone 13 () - Starlight           4.5               7819   \n",
       "3   Apple iPhone 13 () - Midnight           4.5               6614   \n",
       "4       Apple iPhone 13 () - Pink           4.5               3136   \n",
       "\n",
       "   bought_last_month  discounted_mrp original_mrp  discount%  free_delivery  \\\n",
       "0                200         65900.0      79900.0       18.0              0   \n",
       "1                100         65900.0      79600.0       17.0              0   \n",
       "2               5000         45490.0      59900.0       24.0              0   \n",
       "3               5000         45490.0      59600.0       24.0              0   \n",
       "4               5000         45490.0      59900.0       24.0              0   \n",
       "\n",
       "   brand    product      color  storage_in_GB  RAM_in_GB  \n",
       "0  Apple  iPhone 15      Green            128          6  \n",
       "1  Apple  iPhone 15       Pink            128          6  \n",
       "2  Apple  iPhone 13  Starlight            128          6  \n",
       "3  Apple  iPhone 13   Midnight            128          6  \n",
       "4  Apple  iPhone 13       Pink            128          6  "
      ]
     },
     "execution_count": 105,
     "metadata": {},
     "output_type": "execute_result"
    }
   ],
   "source": [
    "data = pd.read_csv(\"final_cleaned_smartphones.csv\")\n",
    "data.head()"
   ]
  },
  {
   "cell_type": "code",
   "execution_count": 106,
   "metadata": {},
   "outputs": [
    {
     "data": {
      "text/plain": [
       "product_name         0\n",
       "rating_stars         0\n",
       "number_of_reviews    0\n",
       "bought_last_month    0\n",
       "discounted_mrp       0\n",
       "original_mrp         0\n",
       "discount%            0\n",
       "free_delivery        0\n",
       "brand                0\n",
       "product              0\n",
       "color                0\n",
       "storage_in_GB        0\n",
       "RAM_in_GB            0\n",
       "dtype: int64"
      ]
     },
     "execution_count": 106,
     "metadata": {},
     "output_type": "execute_result"
    }
   ],
   "source": [
    "data.isnull().sum()"
   ]
  }
 ],
 "metadata": {
  "kernelspec": {
   "display_name": "Python 3",
   "language": "python",
   "name": "python3"
  },
  "language_info": {
   "codemirror_mode": {
    "name": "ipython",
    "version": 3
   },
   "file_extension": ".py",
   "mimetype": "text/x-python",
   "name": "python",
   "nbconvert_exporter": "python",
   "pygments_lexer": "ipython3",
   "version": "3.12.4"
  }
 },
 "nbformat": 4,
 "nbformat_minor": 2
}
